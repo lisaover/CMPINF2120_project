{
 "cells": [
  {
   "cell_type": "markdown",
   "id": "78d1be26",
   "metadata": {},
   "source": [
    "# Educational Process Mining\n",
    "\n",
    "https://archive-beta.ics.uci.edu/dataset/346/educational+process+mining+epm+a+learning+analytics+data+set\n",
    "\n",
    "Educational Process Mining (EPM): A Learning Analytics Data Set. (2015). UCI Machine Learning Repository.\n",
    "\n",
    "There are 6 sessions with student input data and two excel files with intermediate and final grades. This EDA explores Session 1 data and the grade output data."
   ]
  },
  {
   "cell_type": "code",
   "execution_count": null,
   "id": "c2ab1f59",
   "metadata": {},
   "outputs": [],
   "source": [
    "import pandas as pd\n",
    "import numpy as np\n",
    "import matplotlib.pyplot as plt\n",
    "\n",
    "import seaborn as sns"
   ]
  },
  {
   "cell_type": "markdown",
   "id": "38800c27",
   "metadata": {},
   "source": [
    "### Load the data from github repository"
   ]
  },
  {
   "cell_type": "code",
   "execution_count": null,
   "id": "e42f0471",
   "metadata": {},
   "outputs": [],
   "source": [
    "inputs_path = 'https://raw.githubusercontent.com/lisaover/CMPINF2120_project/main/inputs_df.csv'\n",
    "interim_path = 'https://raw.githubusercontent.com/lisaover/CMPINF2120_project/main/interim_df.csv'\n",
    "final_path = 'https://raw.githubusercontent.com/lisaover/CMPINF2120_project/main/final_df.csv'\n",
    "pts_path = 'https://raw.githubusercontent.com/lisaover/CMPINF2120_project/main/points_final.csv'"
   ]
  },
  {
   "cell_type": "code",
   "execution_count": null,
   "id": "0826e2a3",
   "metadata": {},
   "outputs": [],
   "source": [
    "inputs_init = pd.read_csv(inputs_path)"
   ]
  },
  {
   "cell_type": "code",
   "execution_count": null,
   "id": "031423d3",
   "metadata": {},
   "outputs": [],
   "source": [
    "interim_init = pd.read_csv(interim_path)"
   ]
  },
  {
   "cell_type": "code",
   "execution_count": null,
   "id": "52bf99e9",
   "metadata": {},
   "outputs": [],
   "source": [
    "final_init = pd.read_csv(final_path)"
   ]
  },
  {
   "cell_type": "code",
   "execution_count": null,
   "id": "63efdb46",
   "metadata": {},
   "outputs": [],
   "source": [
    "pts_final_init = pd.read_csv(pts_path)"
   ]
  },
  {
   "cell_type": "code",
   "execution_count": null,
   "id": "e3a843be",
   "metadata": {},
   "outputs": [],
   "source": [
    "inputs_init.columns"
   ]
  },
  {
   "cell_type": "code",
   "execution_count": null,
   "id": "b0642c7d",
   "metadata": {},
   "outputs": [],
   "source": [
    "interim_init.columns"
   ]
  },
  {
   "cell_type": "code",
   "execution_count": null,
   "id": "9441e715",
   "metadata": {},
   "outputs": [],
   "source": [
    "final_init.columns"
   ]
  },
  {
   "cell_type": "code",
   "execution_count": null,
   "id": "ca39539a",
   "metadata": {},
   "outputs": [],
   "source": [
    "pts_final_init.columns"
   ]
  },
  {
   "cell_type": "markdown",
   "id": "d3b46722",
   "metadata": {},
   "source": [
    "##### Drop Unnamed columns"
   ]
  },
  {
   "cell_type": "code",
   "execution_count": null,
   "id": "ab898ea3",
   "metadata": {},
   "outputs": [],
   "source": [
    "inputs_init.drop(columns=['Unnamed: 0'], axis=1, inplace=True)\n",
    "interim_init.drop(columns=['Unnamed: 0'], axis=1, inplace=True)\n",
    "final_init.drop(columns=['Unnamed: 0'], axis=1, inplace=True)\n",
    "pts_final_init.drop(columns=['Unnamed: 0'], axis=1, inplace=True)"
   ]
  },
  {
   "cell_type": "markdown",
   "id": "7715af34",
   "metadata": {},
   "source": [
    "## Inputs"
   ]
  },
  {
   "cell_type": "markdown",
   "id": "7534685b",
   "metadata": {},
   "source": [
    "There are 14 columns:\n",
    "\n",
    "* Four ID columns as type integer - session and student_id\n",
    "* Five object columns, two should be dates - exercise, activity_grp, activity_ex, start_time, and end_time\n",
    "* Seven integer columns - idle_time, mouse_wheel, mouse_wheel_click, mouse_click_left, mouse_click_right, mouse_movement, and keystoke\n",
    "\n",
    "There are missing data only in the column `activity_ex` because it is a derived column from splitting the original `activity` column into two columns, one to hold the activity group and the other the exercise associated with the activity - not all activity was associated with a specific exercise.\n",
    "\n",
    "There are 158 records where `idle_time` is negative. And, about 26% of the data has start and end times that are equal."
   ]
  },
  {
   "cell_type": "code",
   "execution_count": null,
   "id": "eb45c40b",
   "metadata": {},
   "outputs": [],
   "source": [
    "inputs_init.info()"
   ]
  },
  {
   "cell_type": "code",
   "execution_count": null,
   "id": "1fc06de8",
   "metadata": {},
   "outputs": [],
   "source": [
    "inputs_init.isna().sum()"
   ]
  },
  {
   "cell_type": "markdown",
   "id": "e505c424",
   "metadata": {},
   "source": [
    "### Evaluate ID and date columns"
   ]
  },
  {
   "cell_type": "code",
   "execution_count": null,
   "id": "68561dec",
   "metadata": {},
   "outputs": [],
   "source": [
    "inputs_init.session.nunique()"
   ]
  },
  {
   "cell_type": "code",
   "execution_count": null,
   "id": "e292962e",
   "metadata": {},
   "outputs": [],
   "source": [
    "inputs_init.session.unique()"
   ]
  },
  {
   "cell_type": "code",
   "execution_count": null,
   "id": "80bc70f2",
   "metadata": {},
   "outputs": [],
   "source": [
    "inputs_init.student_id.nunique()"
   ]
  },
  {
   "cell_type": "code",
   "execution_count": null,
   "id": "42fc91b6",
   "metadata": {},
   "outputs": [],
   "source": [
    "inputs_init.student_id.unique()"
   ]
  },
  {
   "cell_type": "markdown",
   "id": "8477fd31",
   "metadata": {},
   "source": [
    "##### Convert student_id and session to object type"
   ]
  },
  {
   "cell_type": "code",
   "execution_count": null,
   "id": "2731a4ad",
   "metadata": {},
   "outputs": [],
   "source": [
    "inputs_init['student_id'] = inputs_init['student_id'].astype('object')\n",
    "inputs_init['session'] = inputs_init['session'].astype('object')"
   ]
  },
  {
   "cell_type": "markdown",
   "id": "7c78ef98",
   "metadata": {},
   "source": [
    "##### Convert start_time and end_time to datetime type and add variable for the total time\n",
    "\n",
    "The variable `idle_time` is the duration of idle time between the start and end times in milliseconds."
   ]
  },
  {
   "cell_type": "code",
   "execution_count": null,
   "id": "ef0287d2",
   "metadata": {},
   "outputs": [],
   "source": [
    "inputs_init['start_time'] = pd.to_datetime(inputs_init['start_time'])\n",
    "inputs_init['end_time'] = pd.to_datetime(inputs_init['end_time'])"
   ]
  },
  {
   "cell_type": "markdown",
   "id": "aab1df81",
   "metadata": {},
   "source": [
    "##### Evaluate `idle_time` and `total_time` values\n",
    "\n",
    "`idle_time` has 158 negative values, all of which are large in magnitude with a min of -2.06 x 10^14. The average values for the mouse and keyboard actions are mostly higher for this group than those for the set of records with positive or zero idle times. \n",
    "\n",
    "`total_time` has one record with negative values because the start date is greater than the end date. About 26% of records have a `total_time` of 0 because the start and end times are equal. The average values for the mouse and keyboard actions are smaller for this group than for the set of records with positive or zero idle times."
   ]
  },
  {
   "cell_type": "code",
   "execution_count": null,
   "id": "f20510df",
   "metadata": {},
   "outputs": [],
   "source": [
    "inputs_init['idle_time'].describe()"
   ]
  },
  {
   "cell_type": "code",
   "execution_count": null,
   "id": "3c06eda6",
   "metadata": {},
   "outputs": [],
   "source": [
    "inputs_init.loc[inputs_init['idle_time'] < 0].shape[0]"
   ]
  },
  {
   "cell_type": "code",
   "execution_count": null,
   "id": "0476ede6",
   "metadata": {},
   "outputs": [],
   "source": [
    "inputs_init.loc[inputs_init['idle_time'] < 0].describe()"
   ]
  },
  {
   "cell_type": "code",
   "execution_count": null,
   "id": "e8adc93c",
   "metadata": {},
   "outputs": [],
   "source": [
    "inputs_init.loc[inputs_init['idle_time'] >= 0].describe()"
   ]
  },
  {
   "cell_type": "code",
   "execution_count": null,
   "id": "c6552ea2",
   "metadata": {},
   "outputs": [],
   "source": [
    "inputs_init['total_time'].describe()"
   ]
  },
  {
   "cell_type": "code",
   "execution_count": null,
   "id": "584b495e",
   "metadata": {},
   "outputs": [],
   "source": [
    "inputs_init.loc[inputs_init['total_time'] < 0].shape[0]"
   ]
  },
  {
   "cell_type": "code",
   "execution_count": null,
   "id": "27f1f12c",
   "metadata": {},
   "outputs": [],
   "source": [
    "inputs_init.loc[inputs_init['total_time'] < 0]"
   ]
  },
  {
   "cell_type": "code",
   "execution_count": null,
   "id": "08130548",
   "metadata": {},
   "outputs": [],
   "source": [
    "inputs_init.loc[inputs_init['start_time'] > inputs_init['end_time']]"
   ]
  },
  {
   "cell_type": "code",
   "execution_count": null,
   "id": "074b124c",
   "metadata": {},
   "outputs": [],
   "source": []
  },
  {
   "cell_type": "code",
   "execution_count": null,
   "id": "2f167192",
   "metadata": {},
   "outputs": [],
   "source": [
    "inputs_init.loc[inputs_init['total_time'] == 0].describe()"
   ]
  },
  {
   "cell_type": "code",
   "execution_count": null,
   "id": "8d14d18a",
   "metadata": {},
   "outputs": [],
   "source": [
    "inputs_init.loc[inputs_init['total_time'] >= 0].describe()"
   ]
  },
  {
   "cell_type": "code",
   "execution_count": null,
   "id": "50bc19e6",
   "metadata": {},
   "outputs": [],
   "source": [
    "chk = inputs_init.copy()"
   ]
  },
  {
   "cell_type": "code",
   "execution_count": null,
   "id": "1dee6d78",
   "metadata": {},
   "outputs": [],
   "source": [
    "chk['zero_time'] = np.where(chk['start_time'] == chk['end_time'], 1, 0)"
   ]
  },
  {
   "cell_type": "code",
   "execution_count": null,
   "id": "205fc781",
   "metadata": {},
   "outputs": [],
   "source": [
    "chk['zero_time'].mean()"
   ]
  },
  {
   "cell_type": "markdown",
   "id": "f1c2b6fd",
   "metadata": {},
   "source": [
    "##### Change `idle_time` and `total_time` to float and assign NaN to negative values"
   ]
  },
  {
   "cell_type": "code",
   "execution_count": null,
   "id": "27ceb14d",
   "metadata": {},
   "outputs": [],
   "source": [
    "inputs_init['idle_time'] = inputs_init['idle_time'].astype('float')\n",
    "inputs_init['total_time'] = inputs_init['total_time'].astype('float')"
   ]
  },
  {
   "cell_type": "code",
   "execution_count": null,
   "id": "198a78df",
   "metadata": {},
   "outputs": [],
   "source": [
    "inputs_init['idle_time'] = [x if x >= 0 else np.nan for x in inputs_init['idle_time']]"
   ]
  },
  {
   "cell_type": "code",
   "execution_count": null,
   "id": "bb4972d3",
   "metadata": {},
   "outputs": [],
   "source": [
    "inputs_init['total_time'] = [x if x >= 0 else np.nan for x in inputs_init['total_time']]"
   ]
  },
  {
   "cell_type": "code",
   "execution_count": null,
   "id": "583ecf3e",
   "metadata": {},
   "outputs": [],
   "source": [
    "inputs_init['idle_time'].describe()"
   ]
  },
  {
   "cell_type": "code",
   "execution_count": null,
   "id": "2fe408df",
   "metadata": {},
   "outputs": [],
   "source": [
    "inputs_init['total_time'].describe()"
   ]
  },
  {
   "cell_type": "markdown",
   "id": "ada85416",
   "metadata": {},
   "source": [
    "##### Calculate `active_time` as difference between `total_time` and `idle_time`"
   ]
  },
  {
   "cell_type": "code",
   "execution_count": null,
   "id": "bceb24d8",
   "metadata": {},
   "outputs": [],
   "source": [
    "chk['more_idle'] = np.where(chk['idle_time'] > chk['total_time'], 1, 0)"
   ]
  },
  {
   "cell_type": "code",
   "execution_count": null,
   "id": "48d66cb7",
   "metadata": {},
   "outputs": [],
   "source": [
    "chk['more_idle'].mean()"
   ]
  },
  {
   "cell_type": "code",
   "execution_count": null,
   "id": "858c7ce5",
   "metadata": {},
   "outputs": [],
   "source": [
    "inputs_init['active_time'] = inputs_init['total_time'] - inputs_init['idle_time']"
   ]
  },
  {
   "cell_type": "code",
   "execution_count": null,
   "id": "4139006a",
   "metadata": {},
   "outputs": [],
   "source": [
    "inputs_init['active_time'].describe()"
   ]
  },
  {
   "cell_type": "code",
   "execution_count": null,
   "id": "7f962716",
   "metadata": {},
   "outputs": [],
   "source": [
    "inputs_init['active_time'] = [x if x >= 0 else np.nan for x in inputs_init['active_time']]"
   ]
  },
  {
   "cell_type": "code",
   "execution_count": null,
   "id": "b4aec8e9",
   "metadata": {},
   "outputs": [],
   "source": [
    "inputs_init['active_time'].describe()"
   ]
  },
  {
   "cell_type": "markdown",
   "id": "17dc8c34",
   "metadata": {},
   "source": [
    "### Evaluate categorical variables"
   ]
  },
  {
   "cell_type": "code",
   "execution_count": null,
   "id": "d1fcca0e",
   "metadata": {},
   "outputs": [],
   "source": [
    "inputs_init.info()"
   ]
  },
  {
   "cell_type": "code",
   "execution_count": null,
   "id": "20272288",
   "metadata": {},
   "outputs": [],
   "source": [
    "inputs_init.exercise.nunique()"
   ]
  },
  {
   "cell_type": "code",
   "execution_count": null,
   "id": "afd2e6d2",
   "metadata": {},
   "outputs": [],
   "source": [
    "inputs_init.exercise.unique()"
   ]
  },
  {
   "cell_type": "code",
   "execution_count": null,
   "id": "c2bce929",
   "metadata": {},
   "outputs": [],
   "source": [
    "inputs_init.activity.nunique()"
   ]
  },
  {
   "cell_type": "code",
   "execution_count": null,
   "id": "ec3d5f88",
   "metadata": {},
   "outputs": [],
   "source": [
    "inputs_init.activity_grp.unique()"
   ]
  },
  {
   "cell_type": "code",
   "execution_count": null,
   "id": "ee50bda2",
   "metadata": {},
   "outputs": [],
   "source": [
    "inputs_init.activity_grp.nunique()"
   ]
  },
  {
   "cell_type": "code",
   "execution_count": null,
   "id": "37d9794c",
   "metadata": {},
   "outputs": [],
   "source": [
    "inputs_init.activity_grp.unique()"
   ]
  },
  {
   "cell_type": "code",
   "execution_count": null,
   "id": "34eadf89",
   "metadata": {},
   "outputs": [],
   "source": [
    "inputs_init.activity_grp.value_counts()"
   ]
  },
  {
   "cell_type": "code",
   "execution_count": null,
   "id": "c5bdb4c5",
   "metadata": {},
   "outputs": [],
   "source": [
    "inputs_init.activity_ex.nunique()"
   ]
  },
  {
   "cell_type": "code",
   "execution_count": null,
   "id": "8867a9bf",
   "metadata": {},
   "outputs": [],
   "source": [
    "inputs_init.activity_ex.unique()"
   ]
  },
  {
   "cell_type": "code",
   "execution_count": null,
   "id": "552a1cd9",
   "metadata": {
    "scrolled": true
   },
   "outputs": [],
   "source": [
    "inputs_init.activity_ex.value_counts()"
   ]
  },
  {
   "cell_type": "markdown",
   "id": "5cb496b3",
   "metadata": {},
   "source": [
    "### Evaluate numeric variables"
   ]
  },
  {
   "cell_type": "code",
   "execution_count": null,
   "id": "0760fc24",
   "metadata": {},
   "outputs": [],
   "source": [
    "inputs_init.info()"
   ]
  },
  {
   "cell_type": "markdown",
   "id": "3d9bd010",
   "metadata": {},
   "source": [
    "##### Create functions to get summary of numeric columns\n",
    "\n",
    "Trivial groupby column to aggregate on all rows per the following:\n",
    "\n",
    "https://github.com/pandas-dev/pandas/issues/41768"
   ]
  },
  {
   "cell_type": "code",
   "execution_count": null,
   "id": "5224ff71",
   "metadata": {},
   "outputs": [],
   "source": [
    "def my_q25(values):\n",
    "    return np.percentile( values, q=25 )"
   ]
  },
  {
   "cell_type": "code",
   "execution_count": null,
   "id": "b07513e1",
   "metadata": {},
   "outputs": [],
   "source": [
    "def my_q75(values):\n",
    "    return np.percentile( values, q=75 )"
   ]
  },
  {
   "cell_type": "code",
   "execution_count": null,
   "id": "f5e43382",
   "metadata": {},
   "outputs": [],
   "source": [
    "def my_iqr(values):\n",
    "    return my_q75(values) - my_q25(values)"
   ]
  },
  {
   "cell_type": "code",
   "execution_count": null,
   "id": "f4dc8179",
   "metadata": {},
   "outputs": [],
   "source": [
    "def upper_outlier_bound(values): \n",
    "    return my_q75(values) + 1.5 * my_iqr(values)"
   ]
  },
  {
   "cell_type": "code",
   "execution_count": null,
   "id": "55cf828b",
   "metadata": {},
   "outputs": [],
   "source": [
    "def lower_outlier_bound(values): \n",
    "    return my_q25(values) - 1.5 * my_iqr(values)"
   ]
  },
  {
   "cell_type": "code",
   "execution_count": null,
   "id": "bd48c710",
   "metadata": {},
   "outputs": [],
   "source": [
    "def var_name(values):\n",
    "    return values.name"
   ]
  },
  {
   "cell_type": "code",
   "execution_count": null,
   "id": "213d7a8b",
   "metadata": {},
   "outputs": [],
   "source": [
    "def outliers_exist(values):\n",
    "    if (values.min() < lower_outlier_bound(values)) or (values.max() > upper_outlier_bound(values)):\n",
    "        return 'Yes'\n",
    "    else: \n",
    "        return 'No'"
   ]
  },
  {
   "cell_type": "code",
   "execution_count": null,
   "id": "73674c88",
   "metadata": {},
   "outputs": [],
   "source": [
    "def percent_outliers(values):\n",
    "    df = pd.DataFrame(values)\n",
    "    df['outlier'] = np.where((df[values.name] < lower_outlier_bound(values)) | (df[values.name] > upper_outlier_bound(values)), 1, 0)\n",
    "    return round(df['outlier'].mean()*100, 1)"
   ]
  },
  {
   "cell_type": "code",
   "execution_count": null,
   "id": "d4d69e70",
   "metadata": {},
   "outputs": [],
   "source": [
    "def get_summary(df_in):\n",
    "    \n",
    "    df_out = pd.DataFrame(columns=['var_name', 'nunique', 'mean', 'median', \n",
    "                                   'min', 'lower_outlier_bound', 'max', 'upper_outlier_bound',\n",
    "                                   'outliers_exist', 'percent_outliers'])\n",
    "    \n",
    "    # add trivial groupby column\n",
    "    df_in['all'] = 'grp_all'\n",
    "    \n",
    "    for var in df_in.select_dtypes('number').columns.tolist():\n",
    "        df_out = pd.concat([df_out, df_in.groupby(['all'])[var].\\\n",
    "                           aggregate( [var_name, 'nunique', 'mean', 'median', \n",
    "                                       'min', lower_outlier_bound, 'max', upper_outlier_bound, \n",
    "                                       outliers_exist, percent_outliers] ).\\\n",
    "                           reset_index().copy()])\n",
    "        \n",
    "    return df_out.drop('all', axis=1)"
   ]
  },
  {
   "cell_type": "code",
   "execution_count": null,
   "id": "8943d5d5",
   "metadata": {},
   "outputs": [],
   "source": [
    "get_summary(inputs_init.copy())"
   ]
  },
  {
   "cell_type": "markdown",
   "id": "e96d2793",
   "metadata": {},
   "source": [
    "Idle_time has a negative mean. It is supposed to be the the duration of idle time between the start and end time of an activity in milliseconds."
   ]
  },
  {
   "cell_type": "code",
   "execution_count": null,
   "id": "60efb9a9",
   "metadata": {},
   "outputs": [],
   "source": [
    "inputs_init.describe()"
   ]
  },
  {
   "cell_type": "markdown",
   "id": "41b92f63",
   "metadata": {},
   "source": [
    "### Outlier Resolution"
   ]
  },
  {
   "cell_type": "markdown",
   "id": "1dded684",
   "metadata": {},
   "source": [
    "##### Create functions to support outlier resolution"
   ]
  },
  {
   "cell_type": "code",
   "execution_count": null,
   "id": "48560961",
   "metadata": {},
   "outputs": [],
   "source": [
    "inputs_xdf = inputs_init.copy()"
   ]
  },
  {
   "cell_type": "code",
   "execution_count": null,
   "id": "08daed35",
   "metadata": {},
   "outputs": [],
   "source": [
    "def upper_extreme_bound(values):\n",
    "    return np.percentile( values, q=97.5 )"
   ]
  },
  {
   "cell_type": "code",
   "execution_count": null,
   "id": "8b9cd162",
   "metadata": {},
   "outputs": [],
   "source": [
    "def lower_extreme_bound(values):\n",
    "    return np.percentile( values, q=2.5 )"
   ]
  },
  {
   "cell_type": "code",
   "execution_count": null,
   "id": "a97b0225",
   "metadata": {},
   "outputs": [],
   "source": [
    "inputs_xdf.columns"
   ]
  },
  {
   "cell_type": "markdown",
   "id": "daf7d1fc",
   "metadata": {},
   "source": [
    "##### Natural Log"
   ]
  },
  {
   "cell_type": "code",
   "execution_count": null,
   "id": "be9972b6",
   "metadata": {},
   "outputs": [],
   "source": [
    "inputs_xdf['total_time_ln'] = np.log(inputs_xdf[['total_time']].replace(0, np.nan))"
   ]
  },
  {
   "cell_type": "code",
   "execution_count": null,
   "id": "64f11a81",
   "metadata": {},
   "outputs": [],
   "source": [
    "inputs_xdf['idle_time_ln'] = np.log(inputs_xdf[['idle_time']].replace(0, np.nan))"
   ]
  },
  {
   "cell_type": "code",
   "execution_count": null,
   "id": "b5b34b54",
   "metadata": {},
   "outputs": [],
   "source": [
    "inputs_xdf['mouse_wheel_ln'] = np.log(inputs_xdf[['mouse_wheel']].replace(0, np.nan))"
   ]
  },
  {
   "cell_type": "code",
   "execution_count": null,
   "id": "7290db37",
   "metadata": {},
   "outputs": [],
   "source": [
    "inputs_xdf['mouse_wheel_click_ln'] = np.log(inputs_xdf[['mouse_wheel_click']].replace(0, np.nan))"
   ]
  },
  {
   "cell_type": "code",
   "execution_count": null,
   "id": "8cf7b1d6",
   "metadata": {},
   "outputs": [],
   "source": [
    "inputs_xdf['mouse_click_left_ln'] = np.log(inputs_xdf[['mouse_click_left']].replace(0, np.nan))"
   ]
  },
  {
   "cell_type": "code",
   "execution_count": null,
   "id": "512d58d8",
   "metadata": {},
   "outputs": [],
   "source": [
    "inputs_xdf['mouse_click_right_ln'] = np.log(inputs_xdf[['mouse_click_right']].replace(0, np.nan))"
   ]
  },
  {
   "cell_type": "code",
   "execution_count": null,
   "id": "fb0350e7",
   "metadata": {},
   "outputs": [],
   "source": [
    "inputs_xdf['mouse_movement_ln'] = np.log(inputs_xdf[['mouse_movement']].replace(0, np.nan))"
   ]
  },
  {
   "cell_type": "code",
   "execution_count": null,
   "id": "8889e682",
   "metadata": {},
   "outputs": [],
   "source": [
    "inputs_xdf['keystroke_ln'] = np.log(inputs_xdf[['keystroke']].replace(0, np.nan))"
   ]
  },
  {
   "cell_type": "code",
   "execution_count": null,
   "id": "2a4c6f05",
   "metadata": {},
   "outputs": [],
   "source": []
  },
  {
   "cell_type": "markdown",
   "id": "18eb0aab",
   "metadata": {},
   "source": [
    "##### Windsorize"
   ]
  },
  {
   "cell_type": "code",
   "execution_count": null,
   "id": "50f211c0",
   "metadata": {},
   "outputs": [],
   "source": [
    "#inputs_xdf['total_time_wdz'] = [x if x <= upper_extreme_bound(inputs_xdf['total_time']) else upper_extreme_bound(inputs_xdf['total_time']) for x in inputs_xdf['total_time']]"
   ]
  },
  {
   "cell_type": "code",
   "execution_count": null,
   "id": "011446b7",
   "metadata": {},
   "outputs": [],
   "source": [
    "#inputs_xdf['idle_time_wdz'] = [abs(x) if x <= upper_extreme_bound(inputs_xdf['idle_time']) else upper_extreme_bound(inputs_xdf['idle_time']) for x in inputs_xdf['idle_time']]"
   ]
  },
  {
   "cell_type": "code",
   "execution_count": null,
   "id": "93bebf5b",
   "metadata": {},
   "outputs": [],
   "source": [
    "#inputs_xdf['mouse_wheel_wdz'] = [x if x <= upper_extreme_bound(inputs_xdf['mouse_wheel']) else upper_extreme_bound(inputs_xdf['mouse_wheel']) for x in inputs_xdf['mouse_wheel']]"
   ]
  },
  {
   "cell_type": "code",
   "execution_count": null,
   "id": "1c7b0e9d",
   "metadata": {},
   "outputs": [],
   "source": [
    "#inputs_xdf['mouse_wheel_click_wdz'] = [x if x <= upper_extreme_bound(inputs_xdf['mouse_wheel_click']) else upper_extreme_bound(inputs_xdf['mouse_wheel_click']) for x in inputs_xdf['mouse_wheel_click']]"
   ]
  },
  {
   "cell_type": "code",
   "execution_count": null,
   "id": "c160e624",
   "metadata": {},
   "outputs": [],
   "source": [
    "#inputs_xdf['mouse_click_left_wdz'] = [x if x <= upper_extreme_bound(inputs_xdf['mouse_click_left']) else upper_extreme_bound(inputs_xdf['mouse_click_left']) for x in inputs_xdf['mouse_click_left']]"
   ]
  },
  {
   "cell_type": "code",
   "execution_count": null,
   "id": "7433a7db",
   "metadata": {},
   "outputs": [],
   "source": [
    "#inputs_xdf['mouse_click_right_wdz'] = [x if x <= upper_extreme_bound(inputs_xdf['mouse_click_right']) else upper_extreme_bound(inputs_xdf['mouse_click_right']) for x in inputs_xdf['mouse_click_right']]"
   ]
  },
  {
   "cell_type": "code",
   "execution_count": null,
   "id": "2691af3d",
   "metadata": {},
   "outputs": [],
   "source": [
    "#inputs_xdf['mouse_movement_wdz'] = [x if x <= upper_extreme_bound(inputs_xdf['mouse_movement']) else upper_extreme_bound(inputs_xdf['mouse_movement']) for x in inputs_xdf['mouse_movement']]"
   ]
  },
  {
   "cell_type": "code",
   "execution_count": null,
   "id": "c0aa0f81",
   "metadata": {},
   "outputs": [],
   "source": [
    "#inputs_xdf['keystroke_wdz'] = [x if x <= upper_extreme_bound(inputs_xdf['keystroke']) else upper_extreme_bound(inputs_xdf['keystroke']) for x in inputs_xdf['keystroke']]"
   ]
  },
  {
   "cell_type": "code",
   "execution_count": null,
   "id": "d4b3b1e2",
   "metadata": {},
   "outputs": [],
   "source": []
  },
  {
   "cell_type": "markdown",
   "id": "112dbb6d",
   "metadata": {},
   "source": [
    "##### Square Root"
   ]
  },
  {
   "cell_type": "code",
   "execution_count": null,
   "id": "9dfae12a",
   "metadata": {},
   "outputs": [],
   "source": [
    "inputs_xdf['total_time_sqrt'] = np.sqrt(inputs_xdf[['total_time']])"
   ]
  },
  {
   "cell_type": "code",
   "execution_count": null,
   "id": "04d08901",
   "metadata": {},
   "outputs": [],
   "source": [
    "inputs_xdf['idle_time_sqrt'] = np.sqrt(inputs_xdf[['idle_time']])"
   ]
  },
  {
   "cell_type": "code",
   "execution_count": null,
   "id": "69a4e461",
   "metadata": {},
   "outputs": [],
   "source": [
    "inputs_xdf['mouse_wheel_sqrt'] = np.sqrt(inputs_xdf[['mouse_wheel']])"
   ]
  },
  {
   "cell_type": "code",
   "execution_count": null,
   "id": "83275973",
   "metadata": {},
   "outputs": [],
   "source": [
    "inputs_xdf['mouse_wheel_click_sqrt'] = np.sqrt(inputs_xdf[['mouse_wheel_click']])"
   ]
  },
  {
   "cell_type": "code",
   "execution_count": null,
   "id": "41aae684",
   "metadata": {},
   "outputs": [],
   "source": [
    "inputs_xdf['mouse_click_left_sqrt'] = np.sqrt(inputs_xdf[['mouse_click_left']])"
   ]
  },
  {
   "cell_type": "code",
   "execution_count": null,
   "id": "0104b3ce",
   "metadata": {},
   "outputs": [],
   "source": [
    "inputs_xdf['mouse_click_right_sqrt'] = np.sqrt(inputs_xdf[['mouse_click_right']])"
   ]
  },
  {
   "cell_type": "code",
   "execution_count": null,
   "id": "a781f985",
   "metadata": {},
   "outputs": [],
   "source": [
    "inputs_xdf['mouse_movement_sqrt'] = np.sqrt(inputs_xdf[['mouse_movement']])"
   ]
  },
  {
   "cell_type": "code",
   "execution_count": null,
   "id": "fb080db5",
   "metadata": {},
   "outputs": [],
   "source": [
    "inputs_xdf['keystroke_sqrt'] = np.sqrt(inputs_xdf[['keystroke']])"
   ]
  },
  {
   "cell_type": "code",
   "execution_count": null,
   "id": "6e49204b",
   "metadata": {},
   "outputs": [],
   "source": []
  },
  {
   "cell_type": "markdown",
   "id": "545e7235",
   "metadata": {},
   "source": [
    "##### `total_time`"
   ]
  },
  {
   "cell_type": "code",
   "execution_count": null,
   "id": "86049328",
   "metadata": {},
   "outputs": [],
   "source": [
    "sns.displot(\n",
    "    inputs_xdf, x=\"total_time\", stat='percent', kind='hist', bins=30, height=4)\n",
    "\n",
    "plt.show()"
   ]
  },
  {
   "cell_type": "code",
   "execution_count": null,
   "id": "0958506b",
   "metadata": {},
   "outputs": [],
   "source": [
    "sns.displot(\n",
    "    inputs_xdf, x=\"total_time_ln\", stat='percent', kind='hist', bins=30, height=4)\n",
    "\n",
    "plt.show()"
   ]
  },
  {
   "cell_type": "markdown",
   "id": "507d227c",
   "metadata": {},
   "source": [
    "sns.displot(\n",
    "    inputs_xdf, x=\"total_time_wdz\", stat='percent', kind='hist', bins=30, height=4)\n",
    "\n",
    "plt.show()"
   ]
  },
  {
   "cell_type": "code",
   "execution_count": null,
   "id": "48fa2822",
   "metadata": {},
   "outputs": [],
   "source": [
    "sns.displot(\n",
    "    inputs_xdf, x=\"total_time_sqrt\", stat='percent', kind='hist', bins=30, height=4)\n",
    "\n",
    "plt.show()"
   ]
  },
  {
   "cell_type": "markdown",
   "id": "2897808c",
   "metadata": {},
   "source": [
    "##### `idle_time`"
   ]
  },
  {
   "cell_type": "code",
   "execution_count": null,
   "id": "8e98aa65",
   "metadata": {},
   "outputs": [],
   "source": [
    "sns.displot(\n",
    "    inputs_xdf, x=\"idle_time\", stat='percent', kind='hist', bins=30, height=4)\n",
    "\n",
    "plt.show()"
   ]
  },
  {
   "cell_type": "code",
   "execution_count": null,
   "id": "407c4c7d",
   "metadata": {},
   "outputs": [],
   "source": [
    "sns.displot(\n",
    "    inputs_xdf, x=\"idle_time_ln\", stat='percent', kind='hist', bins=30, height=4)\n",
    "\n",
    "plt.show()"
   ]
  },
  {
   "cell_type": "markdown",
   "id": "25bd33e2",
   "metadata": {},
   "source": [
    "sns.displot(\n",
    "    inputs_xdf, x=\"idle_time_wdz\", stat='percent', kind='hist', bins=30, height=4)\n",
    "\n",
    "plt.show()"
   ]
  },
  {
   "cell_type": "markdown",
   "id": "fb4afbfe",
   "metadata": {},
   "source": [
    "##### `mouse_wheel`"
   ]
  },
  {
   "cell_type": "code",
   "execution_count": null,
   "id": "f307f138",
   "metadata": {},
   "outputs": [],
   "source": [
    "sns.displot(\n",
    "    inputs_xdf, x=\"mouse_wheel\", stat='percent', kind='hist', bins=30, height=4)\n",
    "\n",
    "plt.show()"
   ]
  },
  {
   "cell_type": "code",
   "execution_count": null,
   "id": "687a6dad",
   "metadata": {},
   "outputs": [],
   "source": [
    "sns.displot(\n",
    "    inputs_xdf, x=\"mouse_wheel_ln\", stat='percent', kind='hist', bins=30, height=4)\n",
    "\n",
    "plt.show()"
   ]
  },
  {
   "cell_type": "markdown",
   "id": "8fd8e275",
   "metadata": {},
   "source": [
    "sns.displot(\n",
    "    inputs_xdf, x=\"mouse_wheel_wdz\", stat='percent', kind='hist', bins=30, height=4)\n",
    "\n",
    "plt.show()"
   ]
  },
  {
   "cell_type": "markdown",
   "id": "8b5c31b6",
   "metadata": {},
   "source": [
    "##### `mouse_wheel_click`"
   ]
  },
  {
   "cell_type": "code",
   "execution_count": null,
   "id": "5cb9b760",
   "metadata": {},
   "outputs": [],
   "source": [
    "sns.displot(\n",
    "    inputs_xdf, x=\"mouse_wheel_click\", stat='percent', kind='hist', bins=30, height=4)\n",
    "\n",
    "plt.show()"
   ]
  },
  {
   "cell_type": "code",
   "execution_count": null,
   "id": "1f8cb093",
   "metadata": {},
   "outputs": [],
   "source": [
    "sns.displot(\n",
    "    inputs_xdf, x=\"mouse_wheel_click_ln\", stat='percent', kind='hist', bins=30, height=4)\n",
    "\n",
    "plt.show()"
   ]
  },
  {
   "cell_type": "markdown",
   "id": "ef8b670e",
   "metadata": {},
   "source": [
    "sns.displot(\n",
    "    inputs_xdf, x=\"mouse_wheel_click_wdz\", stat='percent', kind='hist', bins=30, height=4)\n",
    "\n",
    "plt.show()"
   ]
  },
  {
   "cell_type": "markdown",
   "id": "e9da05a5",
   "metadata": {},
   "source": [
    "##### `mouse_click_left`"
   ]
  },
  {
   "cell_type": "code",
   "execution_count": null,
   "id": "fbc46393",
   "metadata": {},
   "outputs": [],
   "source": [
    "sns.displot(\n",
    "    inputs_xdf, x=\"mouse_click_left\", stat='percent', kind='hist', bins=30, height=4)\n",
    "\n",
    "plt.show()"
   ]
  },
  {
   "cell_type": "code",
   "execution_count": null,
   "id": "187d744b",
   "metadata": {},
   "outputs": [],
   "source": [
    "sns.displot(\n",
    "    inputs_xdf, x=\"mouse_click_left_ln\", stat='percent', kind='hist', bins=30, height=4)\n",
    "\n",
    "plt.show()"
   ]
  },
  {
   "cell_type": "markdown",
   "id": "dfdf850c",
   "metadata": {},
   "source": [
    "sns.displot(\n",
    "    inputs_xdf, x=\"mouse_click_left_wdz\", stat='percent', kind='hist', bins=30, height=4)\n",
    "\n",
    "plt.show()"
   ]
  },
  {
   "cell_type": "markdown",
   "id": "7b54379a",
   "metadata": {},
   "source": [
    "##### `mouse_click_right`"
   ]
  },
  {
   "cell_type": "code",
   "execution_count": null,
   "id": "dd745428",
   "metadata": {},
   "outputs": [],
   "source": [
    "sns.displot(\n",
    "    inputs_xdf, x=\"mouse_click_right\", stat='percent', kind='hist', bins=30, height=4)\n",
    "\n",
    "plt.show()"
   ]
  },
  {
   "cell_type": "code",
   "execution_count": null,
   "id": "0ee88aab",
   "metadata": {},
   "outputs": [],
   "source": [
    "sns.displot(\n",
    "    inputs_xdf, x=\"mouse_click_right_ln\", stat='percent', kind='hist', bins=30, height=4)\n",
    "\n",
    "plt.show()"
   ]
  },
  {
   "cell_type": "markdown",
   "id": "f4f42273",
   "metadata": {},
   "source": [
    "sns.displot(\n",
    "    inputs_xdf, x=\"mouse_click_right_wdz\", stat='percent', kind='hist', bins=30, height=4)\n",
    "\n",
    "plt.show()"
   ]
  },
  {
   "cell_type": "markdown",
   "id": "44a5fe9f",
   "metadata": {},
   "source": [
    "##### `mouse_movement`"
   ]
  },
  {
   "cell_type": "code",
   "execution_count": null,
   "id": "02af6b14",
   "metadata": {},
   "outputs": [],
   "source": [
    "sns.displot(\n",
    "    inputs_xdf, x=\"mouse_movement\", stat='percent', kind='hist', bins=30, height=4)\n",
    "\n",
    "plt.show()"
   ]
  },
  {
   "cell_type": "code",
   "execution_count": null,
   "id": "b61c2537",
   "metadata": {},
   "outputs": [],
   "source": [
    "sns.displot(\n",
    "    inputs_xdf, x=\"mouse_movement_ln\", stat='percent', kind='hist', bins=30, height=4)\n",
    "\n",
    "plt.show()"
   ]
  },
  {
   "cell_type": "markdown",
   "id": "8c86edab",
   "metadata": {},
   "source": [
    "sns.displot(\n",
    "    inputs_xdf, x=\"mouse_movement_wdz\", stat='percent', kind='hist', bins=30, height=4)\n",
    "\n",
    "plt.show()"
   ]
  },
  {
   "cell_type": "markdown",
   "id": "ab938833",
   "metadata": {},
   "source": [
    "##### `keystroke`"
   ]
  },
  {
   "cell_type": "code",
   "execution_count": null,
   "id": "c433818e",
   "metadata": {},
   "outputs": [],
   "source": [
    "sns.displot(\n",
    "    inputs_xdf, x=\"keystroke\", stat='percent', kind='hist', bins=30, height=4)\n",
    "\n",
    "plt.show()"
   ]
  },
  {
   "cell_type": "code",
   "execution_count": null,
   "id": "fdc79cee",
   "metadata": {},
   "outputs": [],
   "source": [
    "sns.displot(\n",
    "    inputs_xdf, x=\"keystroke_ln\", stat='percent', kind='hist', bins=30, height=4)\n",
    "\n",
    "plt.show()"
   ]
  },
  {
   "cell_type": "markdown",
   "id": "1af3dbf2",
   "metadata": {},
   "source": [
    "sns.displot(\n",
    "    inputs_xdf, x=\"keystroke_wdz\", stat='percent', kind='hist', bins=30, height=4)\n",
    "\n",
    "plt.show()"
   ]
  },
  {
   "cell_type": "code",
   "execution_count": null,
   "id": "bb99984b",
   "metadata": {},
   "outputs": [],
   "source": []
  },
  {
   "cell_type": "code",
   "execution_count": null,
   "id": "f5efd753",
   "metadata": {},
   "outputs": [],
   "source": [
    "inputs_xdf.info()"
   ]
  },
  {
   "cell_type": "code",
   "execution_count": null,
   "id": "88227501",
   "metadata": {},
   "outputs": [],
   "source": [
    "inputs_xdf.columns"
   ]
  },
  {
   "cell_type": "code",
   "execution_count": null,
   "id": "55f4bda7",
   "metadata": {},
   "outputs": [],
   "source": [
    "inputs_xdf.info()"
   ]
  },
  {
   "cell_type": "code",
   "execution_count": null,
   "id": "27b711bd",
   "metadata": {},
   "outputs": [],
   "source": [
    "df_split = np.array_split(inputs_xdf, 3)"
   ]
  },
  {
   "cell_type": "code",
   "execution_count": null,
   "id": "b25876f1",
   "metadata": {},
   "outputs": [],
   "source": [
    "pd.concat([df_split[0], df_split[1], df_split[2]], ignore_index=True, axis=0).shape"
   ]
  },
  {
   "cell_type": "code",
   "execution_count": null,
   "id": "5c04dcc1",
   "metadata": {},
   "outputs": [],
   "source": [
    "df_split[0].to_csv('inputs_clean_p1.csv')"
   ]
  },
  {
   "cell_type": "code",
   "execution_count": null,
   "id": "404c708e",
   "metadata": {},
   "outputs": [],
   "source": [
    "df_split[1].to_csv('inputs_clean_p2.csv')"
   ]
  },
  {
   "cell_type": "code",
   "execution_count": null,
   "id": "9bc0d64a",
   "metadata": {},
   "outputs": [],
   "source": [
    "df_split[2].to_csv('inputs_clean_p3.csv')"
   ]
  },
  {
   "cell_type": "markdown",
   "id": "55f85cf7",
   "metadata": {},
   "source": [
    "## Outputs"
   ]
  },
  {
   "cell_type": "markdown",
   "id": "d4ebd1e0",
   "metadata": {},
   "source": [
    "#### Total point values are not provided for interim session grades...assume they are all worth the same number of points. Total points for each component of the final are in the pts_final data set."
   ]
  },
  {
   "cell_type": "code",
   "execution_count": null,
   "id": "9130d382",
   "metadata": {},
   "outputs": [],
   "source": [
    "interim_init.info()"
   ]
  },
  {
   "cell_type": "code",
   "execution_count": null,
   "id": "4dbc32db",
   "metadata": {},
   "outputs": [],
   "source": [
    "interim_init.rename(columns={\"session_2\": \"interim_s2_score\", \"session_3\": \"interim_s3_score\",  \n",
    "                              \"session_4\": \"interim_s4_score\", \"session_5\": \"interim_s5_score\", \n",
    "                              \"session_6\": \"interim_s6_score\"}, inplace=True)"
   ]
  },
  {
   "cell_type": "code",
   "execution_count": null,
   "id": "75950f57",
   "metadata": {},
   "outputs": [],
   "source": [
    "interim_init.info()"
   ]
  },
  {
   "cell_type": "code",
   "execution_count": null,
   "id": "4a301292",
   "metadata": {},
   "outputs": [],
   "source": [
    "final_init.info()"
   ]
  },
  {
   "cell_type": "code",
   "execution_count": null,
   "id": "70847a1b",
   "metadata": {},
   "outputs": [],
   "source": [
    "pts_final_init.info()"
   ]
  },
  {
   "cell_type": "code",
   "execution_count": null,
   "id": "cf15235d",
   "metadata": {},
   "outputs": [],
   "source": [
    "pts_final_init.question.unique()"
   ]
  },
  {
   "cell_type": "markdown",
   "id": "8b721354",
   "metadata": {},
   "source": [
    "#### Add classification variable to indicate event 'pass_final' if composite score is greater than or equal to 70"
   ]
  },
  {
   "cell_type": "code",
   "execution_count": null,
   "id": "6a5d7ac3",
   "metadata": {},
   "outputs": [],
   "source": [
    "final_init['pass_final'] = np.where( final_init['final_score'] >= 70, 1, 0 )"
   ]
  },
  {
   "cell_type": "code",
   "execution_count": null,
   "id": "632dc6d9",
   "metadata": {},
   "outputs": [],
   "source": []
  },
  {
   "cell_type": "code",
   "execution_count": null,
   "id": "8abbb087",
   "metadata": {},
   "outputs": [],
   "source": []
  },
  {
   "cell_type": "code",
   "execution_count": null,
   "id": "fa9bdee9",
   "metadata": {},
   "outputs": [],
   "source": []
  },
  {
   "cell_type": "code",
   "execution_count": null,
   "id": "6de54257",
   "metadata": {},
   "outputs": [],
   "source": []
  }
 ],
 "metadata": {
  "kernelspec": {
   "display_name": "Python 3 (ipykernel)",
   "language": "python",
   "name": "python3"
  },
  "language_info": {
   "codemirror_mode": {
    "name": "ipython",
    "version": 3
   },
   "file_extension": ".py",
   "mimetype": "text/x-python",
   "name": "python",
   "nbconvert_exporter": "python",
   "pygments_lexer": "ipython3",
   "version": "3.8.15"
  }
 },
 "nbformat": 4,
 "nbformat_minor": 5
}
