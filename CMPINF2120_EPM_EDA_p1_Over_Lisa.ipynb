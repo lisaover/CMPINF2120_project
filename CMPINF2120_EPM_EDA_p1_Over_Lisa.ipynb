{
 "cells": [
  {
   "cell_type": "markdown",
   "id": "78d1be26",
   "metadata": {},
   "source": [
    "# Educational Process Mining\n",
    "\n",
    "https://archive-beta.ics.uci.edu/dataset/346/educational+process+mining+epm+a+learning+analytics+data+set\n",
    "\n",
    "Educational Process Mining (EPM): A Learning Analytics Data Set. (2015). UCI Machine Learning Repository.\n",
    "\n",
    "There are 6 sessions with student input data and two excel files with intermediate and final grades. This EDA explores Session 1 data and the grade output data."
   ]
  },
  {
   "cell_type": "code",
   "execution_count": 1,
   "id": "c2ab1f59",
   "metadata": {},
   "outputs": [],
   "source": [
    "import pandas as pd\n",
    "import numpy as np\n",
    "import matplotlib.pyplot as plt\n",
    "\n",
    "import seaborn as sns"
   ]
  },
  {
   "cell_type": "markdown",
   "id": "38800c27",
   "metadata": {},
   "source": [
    "### Load the data from github repository"
   ]
  },
  {
   "cell_type": "code",
   "execution_count": 2,
   "id": "e42f0471",
   "metadata": {},
   "outputs": [],
   "source": [
    "inputs_path = 'https://raw.githubusercontent.com/lisaover/CMPINF2120_project/main/inputs_df.csv'\n",
    "interim_path = 'https://raw.githubusercontent.com/lisaover/CMPINF2120_project/main/interim_df.csv'\n",
    "final_path = 'https://raw.githubusercontent.com/lisaover/CMPINF2120_project/main/final_df.csv'\n",
    "pts_path = 'https://raw.githubusercontent.com/lisaover/CMPINF2120_project/main/points_final.csv'"
   ]
  },
  {
   "cell_type": "code",
   "execution_count": 3,
   "id": "0826e2a3",
   "metadata": {},
   "outputs": [],
   "source": [
    "inputs_init = pd.read_csv(inputs_path)"
   ]
  },
  {
   "cell_type": "code",
   "execution_count": 4,
   "id": "031423d3",
   "metadata": {},
   "outputs": [],
   "source": [
    "interim_init = pd.read_csv(interim_path)"
   ]
  },
  {
   "cell_type": "code",
   "execution_count": 5,
   "id": "52bf99e9",
   "metadata": {},
   "outputs": [],
   "source": [
    "final_init = pd.read_csv(final_path)"
   ]
  },
  {
   "cell_type": "code",
   "execution_count": 6,
   "id": "63efdb46",
   "metadata": {},
   "outputs": [],
   "source": [
    "pts_final_init = pd.read_csv(pts_path)"
   ]
  },
  {
   "cell_type": "code",
   "execution_count": 7,
   "id": "e3a843be",
   "metadata": {},
   "outputs": [
    {
     "data": {
      "text/plain": [
       "Index(['Unnamed: 0', 'session', 'student_id', 'exercise', 'activity',\n",
       "       'activity_grp', 'activity_ex', 'start_time', 'end_time', 'total_time',\n",
       "       'idle_time', 'mouse_wheel', 'mouse_wheel_click', 'mouse_click_left',\n",
       "       'mouse_click_right', 'mouse_movement', 'keystroke'],\n",
       "      dtype='object')"
      ]
     },
     "execution_count": 7,
     "metadata": {},
     "output_type": "execute_result"
    }
   ],
   "source": [
    "inputs_init.columns"
   ]
  },
  {
   "cell_type": "code",
   "execution_count": 8,
   "id": "b0642c7d",
   "metadata": {},
   "outputs": [
    {
     "data": {
      "text/plain": [
       "Index(['Unnamed: 0', 'student_id', 'session_2', 'session_3', 'session_4',\n",
       "       'session_5', 'session_6'],\n",
       "      dtype='object')"
      ]
     },
     "execution_count": 8,
     "metadata": {},
     "output_type": "execute_result"
    }
   ],
   "source": [
    "interim_init.columns"
   ]
  },
  {
   "cell_type": "code",
   "execution_count": 9,
   "id": "9441e715",
   "metadata": {},
   "outputs": [
    {
     "data": {
      "text/plain": [
       "Index(['Unnamed: 0', 'student_id', 'Es_1_1', 'Es_1_2', 'Es_2_1', 'Es_2_2',\n",
       "       'Es_3_1', 'Es_3_2', 'Es_3_3', 'Es_3_4', 'Es_3_5', 'Es_4_1', 'Es_4_2',\n",
       "       'Es_5_1', 'Es_5_2', 'Es_5_3', 'Es_6_1', 'Es_6_2', 'final_score'],\n",
       "      dtype='object')"
      ]
     },
     "execution_count": 9,
     "metadata": {},
     "output_type": "execute_result"
    }
   ],
   "source": [
    "final_init.columns"
   ]
  },
  {
   "cell_type": "code",
   "execution_count": 10,
   "id": "ca39539a",
   "metadata": {},
   "outputs": [
    {
     "data": {
      "text/plain": [
       "Index(['Unnamed: 0', 'question', 'question_pts'], dtype='object')"
      ]
     },
     "execution_count": 10,
     "metadata": {},
     "output_type": "execute_result"
    }
   ],
   "source": [
    "pts_final_init.columns"
   ]
  },
  {
   "cell_type": "markdown",
   "id": "d3b46722",
   "metadata": {},
   "source": [
    "##### Drop Unnamed columns"
   ]
  },
  {
   "cell_type": "code",
   "execution_count": 11,
   "id": "ab898ea3",
   "metadata": {},
   "outputs": [],
   "source": [
    "inputs_init.drop(columns=['Unnamed: 0'], axis=1, inplace=True)\n",
    "interim_init.drop(columns=['Unnamed: 0'], axis=1, inplace=True)\n",
    "final_init.drop(columns=['Unnamed: 0'], axis=1, inplace=True)\n",
    "pts_final_init.drop(columns=['Unnamed: 0'], axis=1, inplace=True)"
   ]
  },
  {
   "cell_type": "markdown",
   "id": "7715af34",
   "metadata": {},
   "source": [
    "## Inputs"
   ]
  },
  {
   "cell_type": "markdown",
   "id": "7534685b",
   "metadata": {},
   "source": [
    "There are 14 columns:\n",
    "\n",
    "* Four ID columns as type integer - session and student_id\n",
    "* Five object columns, two should be dates - exercise, activity_grp, activity_ex, start_time, and end_time\n",
    "* Seven integer columns - idle_time, mouse_wheel, mouse_wheel_click, mouse_click_left, mouse_click_right, mouse_movement, and keystoke\n",
    "\n",
    "There are missing data only in the column `activity_ex` because it is a derived column from splitting the original `activity` column into two columns, one to hold the activity group and the other the exercise associated with the activity - not all activity was associated with a specific exercise.\n",
    "\n",
    "There are 158 records where `idle_time` is negative. And, about 26% of the data has start and end times that are equal."
   ]
  },
  {
   "cell_type": "code",
   "execution_count": 12,
   "id": "eb45c40b",
   "metadata": {},
   "outputs": [
    {
     "name": "stdout",
     "output_type": "stream",
     "text": [
      "<class 'pandas.core.frame.DataFrame'>\n",
      "RangeIndex: 227129 entries, 0 to 227128\n",
      "Data columns (total 16 columns):\n",
      " #   Column             Non-Null Count   Dtype  \n",
      "---  ------             --------------   -----  \n",
      " 0   session            227129 non-null  int64  \n",
      " 1   student_id         227129 non-null  int64  \n",
      " 2   exercise           227129 non-null  object \n",
      " 3   activity           227129 non-null  object \n",
      " 4   activity_grp       227129 non-null  object \n",
      " 5   activity_ex        111979 non-null  object \n",
      " 6   start_time         227129 non-null  object \n",
      " 7   end_time           227129 non-null  object \n",
      " 8   total_time         227129 non-null  float64\n",
      " 9   idle_time          227129 non-null  int64  \n",
      " 10  mouse_wheel        227129 non-null  int64  \n",
      " 11  mouse_wheel_click  227129 non-null  int64  \n",
      " 12  mouse_click_left   227129 non-null  int64  \n",
      " 13  mouse_click_right  227129 non-null  int64  \n",
      " 14  mouse_movement     227129 non-null  int64  \n",
      " 15  keystroke          227129 non-null  int64  \n",
      "dtypes: float64(1), int64(9), object(6)\n",
      "memory usage: 27.7+ MB\n"
     ]
    }
   ],
   "source": [
    "inputs_init.info()"
   ]
  },
  {
   "cell_type": "code",
   "execution_count": 13,
   "id": "1fc06de8",
   "metadata": {},
   "outputs": [
    {
     "data": {
      "text/plain": [
       "session                   0\n",
       "student_id                0\n",
       "exercise                  0\n",
       "activity                  0\n",
       "activity_grp              0\n",
       "activity_ex          115150\n",
       "start_time                0\n",
       "end_time                  0\n",
       "total_time                0\n",
       "idle_time                 0\n",
       "mouse_wheel               0\n",
       "mouse_wheel_click         0\n",
       "mouse_click_left          0\n",
       "mouse_click_right         0\n",
       "mouse_movement            0\n",
       "keystroke                 0\n",
       "dtype: int64"
      ]
     },
     "execution_count": 13,
     "metadata": {},
     "output_type": "execute_result"
    }
   ],
   "source": [
    "inputs_init.isna().sum()"
   ]
  },
  {
   "cell_type": "markdown",
   "id": "e505c424",
   "metadata": {},
   "source": [
    "### Evaluate ID and date columns"
   ]
  },
  {
   "cell_type": "code",
   "execution_count": 14,
   "id": "68561dec",
   "metadata": {},
   "outputs": [
    {
     "data": {
      "text/plain": [
       "6"
      ]
     },
     "execution_count": 14,
     "metadata": {},
     "output_type": "execute_result"
    }
   ],
   "source": [
    "inputs_init.session.nunique()"
   ]
  },
  {
   "cell_type": "code",
   "execution_count": 15,
   "id": "e292962e",
   "metadata": {},
   "outputs": [
    {
     "data": {
      "text/plain": [
       "array([1, 2, 3, 4, 5, 6])"
      ]
     },
     "execution_count": 15,
     "metadata": {},
     "output_type": "execute_result"
    }
   ],
   "source": [
    "inputs_init.session.unique()"
   ]
  },
  {
   "cell_type": "code",
   "execution_count": 16,
   "id": "80bc70f2",
   "metadata": {},
   "outputs": [
    {
     "data": {
      "text/plain": [
       "113"
      ]
     },
     "execution_count": 16,
     "metadata": {},
     "output_type": "execute_result"
    }
   ],
   "source": [
    "inputs_init.student_id.nunique()"
   ]
  },
  {
   "cell_type": "code",
   "execution_count": 17,
   "id": "42fc91b6",
   "metadata": {},
   "outputs": [
    {
     "data": {
      "text/plain": [
       "array([  1,   2,   4,   5,   7,   9,  10,  11,  12,  14,  15,  17,  19,\n",
       "        20,  21,  22,  28,  30,  32,  34,  36,  37,  38,  39,  42,  43,\n",
       "        44,  46,  47,  49,  51,  52,  53,  54,  55,  56,  59,  62,  63,\n",
       "        66,  67,  68,  70,  71,  73,  74,  76,  78,  79,  80,  81,  82,\n",
       "        85,  86,  87,  88,  90,  91,  92,  93,  94,  96,  97,  98, 100,\n",
       "       101, 102, 104, 105, 108, 109, 110, 111, 112, 113, 114,   3,   6,\n",
       "         8,  16,  18,  24,  27,  29,  41,  48,  50,  61,  72,  83,  84,\n",
       "        95,  99, 103,  23,  25,  31,  35,  45,  69,  75,  89, 106,  13,\n",
       "        26,  33,  40,  57,  58,  60,  64,  65,  77])"
      ]
     },
     "execution_count": 17,
     "metadata": {},
     "output_type": "execute_result"
    }
   ],
   "source": [
    "inputs_init.student_id.unique()"
   ]
  },
  {
   "cell_type": "markdown",
   "id": "8477fd31",
   "metadata": {},
   "source": [
    "##### Convert student_id and session to object type"
   ]
  },
  {
   "cell_type": "code",
   "execution_count": 18,
   "id": "2731a4ad",
   "metadata": {},
   "outputs": [],
   "source": [
    "inputs_init['student_id'] = inputs_init['student_id'].astype('object')\n",
    "inputs_init['session'] = inputs_init['session'].astype('object')"
   ]
  },
  {
   "cell_type": "markdown",
   "id": "7c78ef98",
   "metadata": {},
   "source": [
    "##### Convert start_time and end_time to datetime type and add variable for the total time\n",
    "\n",
    "The variable `idle_time` is the duration of idle time between the start and end times in milliseconds."
   ]
  },
  {
   "cell_type": "code",
   "execution_count": 19,
   "id": "ef0287d2",
   "metadata": {},
   "outputs": [],
   "source": [
    "inputs_init['start_time'] = pd.to_datetime(inputs_init['start_time'])\n",
    "inputs_init['end_time'] = pd.to_datetime(inputs_init['end_time'])"
   ]
  },
  {
   "cell_type": "markdown",
   "id": "aab1df81",
   "metadata": {},
   "source": [
    "##### Evaluate `idle_time` and `total_time` values\n",
    "\n",
    "`idle_time` has 158 negative values, all of which are large in magnitude with a min of -2.06 x 10^14. The average values for the mouse and keyboard actions are mostly higher for this group than those for the set of records with positive or zero idle times. \n",
    "\n",
    "`total_time` has one record with negative values because the start date is greater than the end date. About 26% of records have a `total_time` of 0 because the start and end times are equal. There are mouse and keyboard actions recorded for these records."
   ]
  },
  {
   "cell_type": "code",
   "execution_count": 20,
   "id": "f20510df",
   "metadata": {},
   "outputs": [
    {
     "data": {
      "text/plain": [
       "count    2.271290e+05\n",
       "mean    -1.873839e+09\n",
       "std      4.528877e+11\n",
       "min     -2.059092e+14\n",
       "25%      0.000000e+00\n",
       "50%      7.900000e+01\n",
       "75%      5.719000e+03\n",
       "max      7.244736e+09\n",
       "Name: idle_time, dtype: float64"
      ]
     },
     "execution_count": 20,
     "metadata": {},
     "output_type": "execute_result"
    }
   ],
   "source": [
    "inputs_init['idle_time'].describe()"
   ]
  },
  {
   "cell_type": "code",
   "execution_count": 21,
   "id": "3c06eda6",
   "metadata": {},
   "outputs": [
    {
     "data": {
      "text/plain": [
       "158"
      ]
     },
     "execution_count": 21,
     "metadata": {},
     "output_type": "execute_result"
    }
   ],
   "source": [
    "inputs_init.loc[inputs_init['idle_time'] < 0].shape[0]"
   ]
  },
  {
   "cell_type": "code",
   "execution_count": 22,
   "id": "93dd4d1b",
   "metadata": {},
   "outputs": [
    {
     "data": {
      "text/html": [
       "<div>\n",
       "<style scoped>\n",
       "    .dataframe tbody tr th:only-of-type {\n",
       "        vertical-align: middle;\n",
       "    }\n",
       "\n",
       "    .dataframe tbody tr th {\n",
       "        vertical-align: top;\n",
       "    }\n",
       "\n",
       "    .dataframe thead th {\n",
       "        text-align: right;\n",
       "    }\n",
       "</style>\n",
       "<table border=\"1\" class=\"dataframe\">\n",
       "  <thead>\n",
       "    <tr style=\"text-align: right;\">\n",
       "      <th></th>\n",
       "      <th>total_time</th>\n",
       "      <th>idle_time</th>\n",
       "      <th>mouse_wheel</th>\n",
       "      <th>mouse_wheel_click</th>\n",
       "      <th>mouse_click_left</th>\n",
       "      <th>mouse_click_right</th>\n",
       "      <th>mouse_movement</th>\n",
       "      <th>keystroke</th>\n",
       "    </tr>\n",
       "  </thead>\n",
       "  <tbody>\n",
       "    <tr>\n",
       "      <th>count</th>\n",
       "      <td>158.000000</td>\n",
       "      <td>1.580000e+02</td>\n",
       "      <td>158.000000</td>\n",
       "      <td>158.0</td>\n",
       "      <td>158.000000</td>\n",
       "      <td>158.000000</td>\n",
       "      <td>158.000000</td>\n",
       "      <td>158.000000</td>\n",
       "    </tr>\n",
       "    <tr>\n",
       "      <th>mean</th>\n",
       "      <td>29177.215190</td>\n",
       "      <td>-2.695335e+12</td>\n",
       "      <td>7.987342</td>\n",
       "      <td>0.0</td>\n",
       "      <td>6.955696</td>\n",
       "      <td>0.607595</td>\n",
       "      <td>560.537975</td>\n",
       "      <td>16.316456</td>\n",
       "    </tr>\n",
       "    <tr>\n",
       "      <th>std</th>\n",
       "      <td>66599.144903</td>\n",
       "      <td>1.701228e+13</td>\n",
       "      <td>25.769183</td>\n",
       "      <td>0.0</td>\n",
       "      <td>11.049019</td>\n",
       "      <td>2.648964</td>\n",
       "      <td>687.320243</td>\n",
       "      <td>78.981501</td>\n",
       "    </tr>\n",
       "    <tr>\n",
       "      <th>min</th>\n",
       "      <td>1000.000000</td>\n",
       "      <td>-2.059092e+14</td>\n",
       "      <td>0.000000</td>\n",
       "      <td>0.0</td>\n",
       "      <td>0.000000</td>\n",
       "      <td>0.000000</td>\n",
       "      <td>13.000000</td>\n",
       "      <td>0.000000</td>\n",
       "    </tr>\n",
       "    <tr>\n",
       "      <th>25%</th>\n",
       "      <td>2000.000000</td>\n",
       "      <td>-3.639984e+11</td>\n",
       "      <td>0.000000</td>\n",
       "      <td>0.0</td>\n",
       "      <td>2.000000</td>\n",
       "      <td>0.000000</td>\n",
       "      <td>168.000000</td>\n",
       "      <td>0.000000</td>\n",
       "    </tr>\n",
       "    <tr>\n",
       "      <th>50%</th>\n",
       "      <td>7000.000000</td>\n",
       "      <td>-3.221225e+10</td>\n",
       "      <td>0.000000</td>\n",
       "      <td>0.0</td>\n",
       "      <td>4.000000</td>\n",
       "      <td>0.000000</td>\n",
       "      <td>312.000000</td>\n",
       "      <td>0.000000</td>\n",
       "    </tr>\n",
       "    <tr>\n",
       "      <th>75%</th>\n",
       "      <td>27500.000000</td>\n",
       "      <td>-4.294967e+09</td>\n",
       "      <td>0.750000</td>\n",
       "      <td>0.0</td>\n",
       "      <td>6.000000</td>\n",
       "      <td>0.000000</td>\n",
       "      <td>627.500000</td>\n",
       "      <td>0.000000</td>\n",
       "    </tr>\n",
       "    <tr>\n",
       "      <th>max</th>\n",
       "      <td>624000.000000</td>\n",
       "      <td>-4.294833e+09</td>\n",
       "      <td>172.000000</td>\n",
       "      <td>0.0</td>\n",
       "      <td>82.000000</td>\n",
       "      <td>22.000000</td>\n",
       "      <td>4153.000000</td>\n",
       "      <td>850.000000</td>\n",
       "    </tr>\n",
       "  </tbody>\n",
       "</table>\n",
       "</div>"
      ],
      "text/plain": [
       "          total_time     idle_time  mouse_wheel  mouse_wheel_click  \\\n",
       "count     158.000000  1.580000e+02   158.000000              158.0   \n",
       "mean    29177.215190 -2.695335e+12     7.987342                0.0   \n",
       "std     66599.144903  1.701228e+13    25.769183                0.0   \n",
       "min      1000.000000 -2.059092e+14     0.000000                0.0   \n",
       "25%      2000.000000 -3.639984e+11     0.000000                0.0   \n",
       "50%      7000.000000 -3.221225e+10     0.000000                0.0   \n",
       "75%     27500.000000 -4.294967e+09     0.750000                0.0   \n",
       "max    624000.000000 -4.294833e+09   172.000000                0.0   \n",
       "\n",
       "       mouse_click_left  mouse_click_right  mouse_movement   keystroke  \n",
       "count        158.000000         158.000000      158.000000  158.000000  \n",
       "mean           6.955696           0.607595      560.537975   16.316456  \n",
       "std           11.049019           2.648964      687.320243   78.981501  \n",
       "min            0.000000           0.000000       13.000000    0.000000  \n",
       "25%            2.000000           0.000000      168.000000    0.000000  \n",
       "50%            4.000000           0.000000      312.000000    0.000000  \n",
       "75%            6.000000           0.000000      627.500000    0.000000  \n",
       "max           82.000000          22.000000     4153.000000  850.000000  "
      ]
     },
     "execution_count": 22,
     "metadata": {},
     "output_type": "execute_result"
    }
   ],
   "source": [
    "inputs_init.loc[inputs_init['idle_time'] < 0].describe()"
   ]
  },
  {
   "cell_type": "code",
   "execution_count": 23,
   "id": "590216b0",
   "metadata": {},
   "outputs": [
    {
     "data": {
      "text/html": [
       "<div>\n",
       "<style scoped>\n",
       "    .dataframe tbody tr th:only-of-type {\n",
       "        vertical-align: middle;\n",
       "    }\n",
       "\n",
       "    .dataframe tbody tr th {\n",
       "        vertical-align: top;\n",
       "    }\n",
       "\n",
       "    .dataframe thead th {\n",
       "        text-align: right;\n",
       "    }\n",
       "</style>\n",
       "<table border=\"1\" class=\"dataframe\">\n",
       "  <thead>\n",
       "    <tr style=\"text-align: right;\">\n",
       "      <th></th>\n",
       "      <th>total_time</th>\n",
       "      <th>idle_time</th>\n",
       "      <th>mouse_wheel</th>\n",
       "      <th>mouse_wheel_click</th>\n",
       "      <th>mouse_click_left</th>\n",
       "      <th>mouse_click_right</th>\n",
       "      <th>mouse_movement</th>\n",
       "      <th>keystroke</th>\n",
       "    </tr>\n",
       "  </thead>\n",
       "  <tbody>\n",
       "    <tr>\n",
       "      <th>count</th>\n",
       "      <td>2.269710e+05</td>\n",
       "      <td>2.269710e+05</td>\n",
       "      <td>226971.000000</td>\n",
       "      <td>226971.000000</td>\n",
       "      <td>226971.000000</td>\n",
       "      <td>226971.000000</td>\n",
       "      <td>226971.000000</td>\n",
       "      <td>226971.000000</td>\n",
       "    </tr>\n",
       "    <tr>\n",
       "      <th>mean</th>\n",
       "      <td>1.584867e+04</td>\n",
       "      <td>1.144022e+06</td>\n",
       "      <td>2.703433</td>\n",
       "      <td>0.005454</td>\n",
       "      <td>7.076023</td>\n",
       "      <td>0.336642</td>\n",
       "      <td>414.526257</td>\n",
       "      <td>6.274912</td>\n",
       "    </tr>\n",
       "    <tr>\n",
       "      <th>std</th>\n",
       "      <td>6.111513e+04</td>\n",
       "      <td>2.977009e+07</td>\n",
       "      <td>27.103456</td>\n",
       "      <td>0.224617</td>\n",
       "      <td>21.564804</td>\n",
       "      <td>3.023388</td>\n",
       "      <td>1276.142958</td>\n",
       "      <td>50.923113</td>\n",
       "    </tr>\n",
       "    <tr>\n",
       "      <th>min</th>\n",
       "      <td>-6.120000e+05</td>\n",
       "      <td>0.000000e+00</td>\n",
       "      <td>0.000000</td>\n",
       "      <td>0.000000</td>\n",
       "      <td>0.000000</td>\n",
       "      <td>0.000000</td>\n",
       "      <td>0.000000</td>\n",
       "      <td>0.000000</td>\n",
       "    </tr>\n",
       "    <tr>\n",
       "      <th>25%</th>\n",
       "      <td>0.000000e+00</td>\n",
       "      <td>0.000000e+00</td>\n",
       "      <td>0.000000</td>\n",
       "      <td>0.000000</td>\n",
       "      <td>2.000000</td>\n",
       "      <td>0.000000</td>\n",
       "      <td>62.000000</td>\n",
       "      <td>0.000000</td>\n",
       "    </tr>\n",
       "    <tr>\n",
       "      <th>50%</th>\n",
       "      <td>2.000000e+03</td>\n",
       "      <td>8.000000e+01</td>\n",
       "      <td>0.000000</td>\n",
       "      <td>0.000000</td>\n",
       "      <td>2.000000</td>\n",
       "      <td>0.000000</td>\n",
       "      <td>137.000000</td>\n",
       "      <td>0.000000</td>\n",
       "    </tr>\n",
       "    <tr>\n",
       "      <th>75%</th>\n",
       "      <td>9.000000e+03</td>\n",
       "      <td>5.740500e+03</td>\n",
       "      <td>0.000000</td>\n",
       "      <td>0.000000</td>\n",
       "      <td>5.000000</td>\n",
       "      <td>0.000000</td>\n",
       "      <td>335.000000</td>\n",
       "      <td>0.000000</td>\n",
       "    </tr>\n",
       "    <tr>\n",
       "      <th>max</th>\n",
       "      <td>3.861000e+06</td>\n",
       "      <td>7.244736e+09</td>\n",
       "      <td>2904.000000</td>\n",
       "      <td>60.000000</td>\n",
       "      <td>1096.000000</td>\n",
       "      <td>168.000000</td>\n",
       "      <td>85949.000000</td>\n",
       "      <td>4754.000000</td>\n",
       "    </tr>\n",
       "  </tbody>\n",
       "</table>\n",
       "</div>"
      ],
      "text/plain": [
       "         total_time     idle_time    mouse_wheel  mouse_wheel_click  \\\n",
       "count  2.269710e+05  2.269710e+05  226971.000000      226971.000000   \n",
       "mean   1.584867e+04  1.144022e+06       2.703433           0.005454   \n",
       "std    6.111513e+04  2.977009e+07      27.103456           0.224617   \n",
       "min   -6.120000e+05  0.000000e+00       0.000000           0.000000   \n",
       "25%    0.000000e+00  0.000000e+00       0.000000           0.000000   \n",
       "50%    2.000000e+03  8.000000e+01       0.000000           0.000000   \n",
       "75%    9.000000e+03  5.740500e+03       0.000000           0.000000   \n",
       "max    3.861000e+06  7.244736e+09    2904.000000          60.000000   \n",
       "\n",
       "       mouse_click_left  mouse_click_right  mouse_movement      keystroke  \n",
       "count     226971.000000      226971.000000   226971.000000  226971.000000  \n",
       "mean           7.076023           0.336642      414.526257       6.274912  \n",
       "std           21.564804           3.023388     1276.142958      50.923113  \n",
       "min            0.000000           0.000000        0.000000       0.000000  \n",
       "25%            2.000000           0.000000       62.000000       0.000000  \n",
       "50%            2.000000           0.000000      137.000000       0.000000  \n",
       "75%            5.000000           0.000000      335.000000       0.000000  \n",
       "max         1096.000000         168.000000    85949.000000    4754.000000  "
      ]
     },
     "execution_count": 23,
     "metadata": {},
     "output_type": "execute_result"
    }
   ],
   "source": [
    "inputs_init.loc[inputs_init['idle_time'] >= 0].describe()"
   ]
  },
  {
   "cell_type": "code",
   "execution_count": 24,
   "id": "c6552ea2",
   "metadata": {},
   "outputs": [
    {
     "data": {
      "text/plain": [
       "count    2.271290e+05\n",
       "mean     1.585794e+04\n",
       "std      6.111997e+04\n",
       "min     -6.120000e+05\n",
       "25%      0.000000e+00\n",
       "50%      2.000000e+03\n",
       "75%      9.000000e+03\n",
       "max      3.861000e+06\n",
       "Name: total_time, dtype: float64"
      ]
     },
     "execution_count": 24,
     "metadata": {},
     "output_type": "execute_result"
    }
   ],
   "source": [
    "inputs_init['total_time'].describe()"
   ]
  },
  {
   "cell_type": "code",
   "execution_count": 25,
   "id": "584b495e",
   "metadata": {},
   "outputs": [
    {
     "data": {
      "text/plain": [
       "1"
      ]
     },
     "execution_count": 25,
     "metadata": {},
     "output_type": "execute_result"
    }
   ],
   "source": [
    "inputs_init.loc[inputs_init['total_time'] < 0].shape[0]"
   ]
  },
  {
   "cell_type": "code",
   "execution_count": 26,
   "id": "27f1f12c",
   "metadata": {},
   "outputs": [
    {
     "data": {
      "text/html": [
       "<div>\n",
       "<style scoped>\n",
       "    .dataframe tbody tr th:only-of-type {\n",
       "        vertical-align: middle;\n",
       "    }\n",
       "\n",
       "    .dataframe tbody tr th {\n",
       "        vertical-align: top;\n",
       "    }\n",
       "\n",
       "    .dataframe thead th {\n",
       "        text-align: right;\n",
       "    }\n",
       "</style>\n",
       "<table border=\"1\" class=\"dataframe\">\n",
       "  <thead>\n",
       "    <tr style=\"text-align: right;\">\n",
       "      <th></th>\n",
       "      <th>session</th>\n",
       "      <th>student_id</th>\n",
       "      <th>exercise</th>\n",
       "      <th>activity</th>\n",
       "      <th>activity_grp</th>\n",
       "      <th>activity_ex</th>\n",
       "      <th>start_time</th>\n",
       "      <th>end_time</th>\n",
       "      <th>total_time</th>\n",
       "      <th>idle_time</th>\n",
       "      <th>mouse_wheel</th>\n",
       "      <th>mouse_wheel_click</th>\n",
       "      <th>mouse_click_left</th>\n",
       "      <th>mouse_click_right</th>\n",
       "      <th>mouse_movement</th>\n",
       "      <th>keystroke</th>\n",
       "    </tr>\n",
       "  </thead>\n",
       "  <tbody>\n",
       "    <tr>\n",
       "      <th>137606</th>\n",
       "      <td>4</td>\n",
       "      <td>89</td>\n",
       "      <td>Es_4_5</td>\n",
       "      <td>Diagram</td>\n",
       "      <td>Diagram</td>\n",
       "      <td>NaN</td>\n",
       "      <td>2014-11-13 13:50:40</td>\n",
       "      <td>2014-11-13 13:40:28</td>\n",
       "      <td>-612000.0</td>\n",
       "      <td>30681</td>\n",
       "      <td>0</td>\n",
       "      <td>0</td>\n",
       "      <td>42</td>\n",
       "      <td>0</td>\n",
       "      <td>636</td>\n",
       "      <td>0</td>\n",
       "    </tr>\n",
       "  </tbody>\n",
       "</table>\n",
       "</div>"
      ],
      "text/plain": [
       "       session student_id exercise activity activity_grp activity_ex  \\\n",
       "137606       4         89   Es_4_5  Diagram      Diagram         NaN   \n",
       "\n",
       "                start_time            end_time  total_time  idle_time  \\\n",
       "137606 2014-11-13 13:50:40 2014-11-13 13:40:28   -612000.0      30681   \n",
       "\n",
       "        mouse_wheel  mouse_wheel_click  mouse_click_left  mouse_click_right  \\\n",
       "137606            0                  0                42                  0   \n",
       "\n",
       "        mouse_movement  keystroke  \n",
       "137606             636          0  "
      ]
     },
     "execution_count": 26,
     "metadata": {},
     "output_type": "execute_result"
    }
   ],
   "source": [
    "inputs_init.loc[inputs_init['total_time'] < 0]"
   ]
  },
  {
   "cell_type": "code",
   "execution_count": 27,
   "id": "08130548",
   "metadata": {},
   "outputs": [
    {
     "data": {
      "text/html": [
       "<div>\n",
       "<style scoped>\n",
       "    .dataframe tbody tr th:only-of-type {\n",
       "        vertical-align: middle;\n",
       "    }\n",
       "\n",
       "    .dataframe tbody tr th {\n",
       "        vertical-align: top;\n",
       "    }\n",
       "\n",
       "    .dataframe thead th {\n",
       "        text-align: right;\n",
       "    }\n",
       "</style>\n",
       "<table border=\"1\" class=\"dataframe\">\n",
       "  <thead>\n",
       "    <tr style=\"text-align: right;\">\n",
       "      <th></th>\n",
       "      <th>session</th>\n",
       "      <th>student_id</th>\n",
       "      <th>exercise</th>\n",
       "      <th>activity</th>\n",
       "      <th>activity_grp</th>\n",
       "      <th>activity_ex</th>\n",
       "      <th>start_time</th>\n",
       "      <th>end_time</th>\n",
       "      <th>total_time</th>\n",
       "      <th>idle_time</th>\n",
       "      <th>mouse_wheel</th>\n",
       "      <th>mouse_wheel_click</th>\n",
       "      <th>mouse_click_left</th>\n",
       "      <th>mouse_click_right</th>\n",
       "      <th>mouse_movement</th>\n",
       "      <th>keystroke</th>\n",
       "    </tr>\n",
       "  </thead>\n",
       "  <tbody>\n",
       "    <tr>\n",
       "      <th>137606</th>\n",
       "      <td>4</td>\n",
       "      <td>89</td>\n",
       "      <td>Es_4_5</td>\n",
       "      <td>Diagram</td>\n",
       "      <td>Diagram</td>\n",
       "      <td>NaN</td>\n",
       "      <td>2014-11-13 13:50:40</td>\n",
       "      <td>2014-11-13 13:40:28</td>\n",
       "      <td>-612000.0</td>\n",
       "      <td>30681</td>\n",
       "      <td>0</td>\n",
       "      <td>0</td>\n",
       "      <td>42</td>\n",
       "      <td>0</td>\n",
       "      <td>636</td>\n",
       "      <td>0</td>\n",
       "    </tr>\n",
       "  </tbody>\n",
       "</table>\n",
       "</div>"
      ],
      "text/plain": [
       "       session student_id exercise activity activity_grp activity_ex  \\\n",
       "137606       4         89   Es_4_5  Diagram      Diagram         NaN   \n",
       "\n",
       "                start_time            end_time  total_time  idle_time  \\\n",
       "137606 2014-11-13 13:50:40 2014-11-13 13:40:28   -612000.0      30681   \n",
       "\n",
       "        mouse_wheel  mouse_wheel_click  mouse_click_left  mouse_click_right  \\\n",
       "137606            0                  0                42                  0   \n",
       "\n",
       "        mouse_movement  keystroke  \n",
       "137606             636          0  "
      ]
     },
     "execution_count": 27,
     "metadata": {},
     "output_type": "execute_result"
    }
   ],
   "source": [
    "inputs_init.loc[inputs_init['start_time'] > inputs_init['end_time']]"
   ]
  },
  {
   "cell_type": "code",
   "execution_count": null,
   "id": "f4313256",
   "metadata": {},
   "outputs": [],
   "source": []
  },
  {
   "cell_type": "code",
   "execution_count": 28,
   "id": "7f1f9f41",
   "metadata": {},
   "outputs": [
    {
     "data": {
      "text/html": [
       "<div>\n",
       "<style scoped>\n",
       "    .dataframe tbody tr th:only-of-type {\n",
       "        vertical-align: middle;\n",
       "    }\n",
       "\n",
       "    .dataframe tbody tr th {\n",
       "        vertical-align: top;\n",
       "    }\n",
       "\n",
       "    .dataframe thead th {\n",
       "        text-align: right;\n",
       "    }\n",
       "</style>\n",
       "<table border=\"1\" class=\"dataframe\">\n",
       "  <thead>\n",
       "    <tr style=\"text-align: right;\">\n",
       "      <th></th>\n",
       "      <th>total_time</th>\n",
       "      <th>idle_time</th>\n",
       "      <th>mouse_wheel</th>\n",
       "      <th>mouse_wheel_click</th>\n",
       "      <th>mouse_click_left</th>\n",
       "      <th>mouse_click_right</th>\n",
       "      <th>mouse_movement</th>\n",
       "      <th>keystroke</th>\n",
       "    </tr>\n",
       "  </thead>\n",
       "  <tbody>\n",
       "    <tr>\n",
       "      <th>count</th>\n",
       "      <td>59767.0</td>\n",
       "      <td>59767.0</td>\n",
       "      <td>59767.000000</td>\n",
       "      <td>59767.000000</td>\n",
       "      <td>59767.000000</td>\n",
       "      <td>59767.000000</td>\n",
       "      <td>59767.000000</td>\n",
       "      <td>59767.000000</td>\n",
       "    </tr>\n",
       "    <tr>\n",
       "      <th>mean</th>\n",
       "      <td>0.0</td>\n",
       "      <td>0.0</td>\n",
       "      <td>0.024662</td>\n",
       "      <td>0.001071</td>\n",
       "      <td>1.753074</td>\n",
       "      <td>0.039487</td>\n",
       "      <td>58.992588</td>\n",
       "      <td>0.086268</td>\n",
       "    </tr>\n",
       "    <tr>\n",
       "      <th>std</th>\n",
       "      <td>0.0</td>\n",
       "      <td>0.0</td>\n",
       "      <td>0.600667</td>\n",
       "      <td>0.048387</td>\n",
       "      <td>1.004523</td>\n",
       "      <td>0.277212</td>\n",
       "      <td>60.357439</td>\n",
       "      <td>0.825030</td>\n",
       "    </tr>\n",
       "    <tr>\n",
       "      <th>min</th>\n",
       "      <td>0.0</td>\n",
       "      <td>0.0</td>\n",
       "      <td>0.000000</td>\n",
       "      <td>0.000000</td>\n",
       "      <td>0.000000</td>\n",
       "      <td>0.000000</td>\n",
       "      <td>0.000000</td>\n",
       "      <td>0.000000</td>\n",
       "    </tr>\n",
       "    <tr>\n",
       "      <th>25%</th>\n",
       "      <td>0.0</td>\n",
       "      <td>0.0</td>\n",
       "      <td>0.000000</td>\n",
       "      <td>0.000000</td>\n",
       "      <td>1.000000</td>\n",
       "      <td>0.000000</td>\n",
       "      <td>25.000000</td>\n",
       "      <td>0.000000</td>\n",
       "    </tr>\n",
       "    <tr>\n",
       "      <th>50%</th>\n",
       "      <td>0.0</td>\n",
       "      <td>0.0</td>\n",
       "      <td>0.000000</td>\n",
       "      <td>0.000000</td>\n",
       "      <td>2.000000</td>\n",
       "      <td>0.000000</td>\n",
       "      <td>51.000000</td>\n",
       "      <td>0.000000</td>\n",
       "    </tr>\n",
       "    <tr>\n",
       "      <th>75%</th>\n",
       "      <td>0.0</td>\n",
       "      <td>0.0</td>\n",
       "      <td>0.000000</td>\n",
       "      <td>0.000000</td>\n",
       "      <td>2.000000</td>\n",
       "      <td>0.000000</td>\n",
       "      <td>79.000000</td>\n",
       "      <td>0.000000</td>\n",
       "    </tr>\n",
       "    <tr>\n",
       "      <th>max</th>\n",
       "      <td>0.0</td>\n",
       "      <td>0.0</td>\n",
       "      <td>69.000000</td>\n",
       "      <td>5.000000</td>\n",
       "      <td>12.000000</td>\n",
       "      <td>6.000000</td>\n",
       "      <td>780.000000</td>\n",
       "      <td>38.000000</td>\n",
       "    </tr>\n",
       "  </tbody>\n",
       "</table>\n",
       "</div>"
      ],
      "text/plain": [
       "       total_time  idle_time   mouse_wheel  mouse_wheel_click  \\\n",
       "count     59767.0    59767.0  59767.000000       59767.000000   \n",
       "mean          0.0        0.0      0.024662           0.001071   \n",
       "std           0.0        0.0      0.600667           0.048387   \n",
       "min           0.0        0.0      0.000000           0.000000   \n",
       "25%           0.0        0.0      0.000000           0.000000   \n",
       "50%           0.0        0.0      0.000000           0.000000   \n",
       "75%           0.0        0.0      0.000000           0.000000   \n",
       "max           0.0        0.0     69.000000           5.000000   \n",
       "\n",
       "       mouse_click_left  mouse_click_right  mouse_movement     keystroke  \n",
       "count      59767.000000       59767.000000    59767.000000  59767.000000  \n",
       "mean           1.753074           0.039487       58.992588      0.086268  \n",
       "std            1.004523           0.277212       60.357439      0.825030  \n",
       "min            0.000000           0.000000        0.000000      0.000000  \n",
       "25%            1.000000           0.000000       25.000000      0.000000  \n",
       "50%            2.000000           0.000000       51.000000      0.000000  \n",
       "75%            2.000000           0.000000       79.000000      0.000000  \n",
       "max           12.000000           6.000000      780.000000     38.000000  "
      ]
     },
     "execution_count": 28,
     "metadata": {},
     "output_type": "execute_result"
    }
   ],
   "source": [
    "inputs_init.loc[inputs_init['total_time'] == 0].describe()"
   ]
  },
  {
   "cell_type": "code",
   "execution_count": 29,
   "id": "50d59696",
   "metadata": {},
   "outputs": [
    {
     "data": {
      "text/html": [
       "<div>\n",
       "<style scoped>\n",
       "    .dataframe tbody tr th:only-of-type {\n",
       "        vertical-align: middle;\n",
       "    }\n",
       "\n",
       "    .dataframe tbody tr th {\n",
       "        vertical-align: top;\n",
       "    }\n",
       "\n",
       "    .dataframe thead th {\n",
       "        text-align: right;\n",
       "    }\n",
       "</style>\n",
       "<table border=\"1\" class=\"dataframe\">\n",
       "  <thead>\n",
       "    <tr style=\"text-align: right;\">\n",
       "      <th></th>\n",
       "      <th>total_time</th>\n",
       "      <th>idle_time</th>\n",
       "      <th>mouse_wheel</th>\n",
       "      <th>mouse_wheel_click</th>\n",
       "      <th>mouse_click_left</th>\n",
       "      <th>mouse_click_right</th>\n",
       "      <th>mouse_movement</th>\n",
       "      <th>keystroke</th>\n",
       "    </tr>\n",
       "  </thead>\n",
       "  <tbody>\n",
       "    <tr>\n",
       "      <th>count</th>\n",
       "      <td>2.271280e+05</td>\n",
       "      <td>2.271280e+05</td>\n",
       "      <td>227128.000000</td>\n",
       "      <td>227128.000000</td>\n",
       "      <td>227128.000000</td>\n",
       "      <td>227128.000000</td>\n",
       "      <td>227128.000000</td>\n",
       "      <td>227128.000000</td>\n",
       "    </tr>\n",
       "    <tr>\n",
       "      <th>mean</th>\n",
       "      <td>1.586071e+04</td>\n",
       "      <td>-1.873848e+09</td>\n",
       "      <td>2.707121</td>\n",
       "      <td>0.005451</td>\n",
       "      <td>7.075785</td>\n",
       "      <td>0.336832</td>\n",
       "      <td>414.626854</td>\n",
       "      <td>6.281925</td>\n",
       "    </tr>\n",
       "    <tr>\n",
       "      <th>std</th>\n",
       "      <td>6.110590e+04</td>\n",
       "      <td>4.528886e+11</td>\n",
       "      <td>27.102914</td>\n",
       "      <td>0.224539</td>\n",
       "      <td>21.559182</td>\n",
       "      <td>3.023153</td>\n",
       "      <td>1275.835525</td>\n",
       "      <td>50.948531</td>\n",
       "    </tr>\n",
       "    <tr>\n",
       "      <th>min</th>\n",
       "      <td>0.000000e+00</td>\n",
       "      <td>-2.059092e+14</td>\n",
       "      <td>0.000000</td>\n",
       "      <td>0.000000</td>\n",
       "      <td>0.000000</td>\n",
       "      <td>0.000000</td>\n",
       "      <td>0.000000</td>\n",
       "      <td>0.000000</td>\n",
       "    </tr>\n",
       "    <tr>\n",
       "      <th>25%</th>\n",
       "      <td>0.000000e+00</td>\n",
       "      <td>0.000000e+00</td>\n",
       "      <td>0.000000</td>\n",
       "      <td>0.000000</td>\n",
       "      <td>2.000000</td>\n",
       "      <td>0.000000</td>\n",
       "      <td>62.000000</td>\n",
       "      <td>0.000000</td>\n",
       "    </tr>\n",
       "    <tr>\n",
       "      <th>50%</th>\n",
       "      <td>2.000000e+03</td>\n",
       "      <td>7.900000e+01</td>\n",
       "      <td>0.000000</td>\n",
       "      <td>0.000000</td>\n",
       "      <td>2.000000</td>\n",
       "      <td>0.000000</td>\n",
       "      <td>137.000000</td>\n",
       "      <td>0.000000</td>\n",
       "    </tr>\n",
       "    <tr>\n",
       "      <th>75%</th>\n",
       "      <td>9.000000e+03</td>\n",
       "      <td>5.719000e+03</td>\n",
       "      <td>0.000000</td>\n",
       "      <td>0.000000</td>\n",
       "      <td>5.000000</td>\n",
       "      <td>0.000000</td>\n",
       "      <td>335.000000</td>\n",
       "      <td>0.000000</td>\n",
       "    </tr>\n",
       "    <tr>\n",
       "      <th>max</th>\n",
       "      <td>3.861000e+06</td>\n",
       "      <td>7.244736e+09</td>\n",
       "      <td>2904.000000</td>\n",
       "      <td>60.000000</td>\n",
       "      <td>1096.000000</td>\n",
       "      <td>168.000000</td>\n",
       "      <td>85949.000000</td>\n",
       "      <td>4754.000000</td>\n",
       "    </tr>\n",
       "  </tbody>\n",
       "</table>\n",
       "</div>"
      ],
      "text/plain": [
       "         total_time     idle_time    mouse_wheel  mouse_wheel_click  \\\n",
       "count  2.271280e+05  2.271280e+05  227128.000000      227128.000000   \n",
       "mean   1.586071e+04 -1.873848e+09       2.707121           0.005451   \n",
       "std    6.110590e+04  4.528886e+11      27.102914           0.224539   \n",
       "min    0.000000e+00 -2.059092e+14       0.000000           0.000000   \n",
       "25%    0.000000e+00  0.000000e+00       0.000000           0.000000   \n",
       "50%    2.000000e+03  7.900000e+01       0.000000           0.000000   \n",
       "75%    9.000000e+03  5.719000e+03       0.000000           0.000000   \n",
       "max    3.861000e+06  7.244736e+09    2904.000000          60.000000   \n",
       "\n",
       "       mouse_click_left  mouse_click_right  mouse_movement      keystroke  \n",
       "count     227128.000000      227128.000000   227128.000000  227128.000000  \n",
       "mean           7.075785           0.336832      414.626854       6.281925  \n",
       "std           21.559182           3.023153     1275.835525      50.948531  \n",
       "min            0.000000           0.000000        0.000000       0.000000  \n",
       "25%            2.000000           0.000000       62.000000       0.000000  \n",
       "50%            2.000000           0.000000      137.000000       0.000000  \n",
       "75%            5.000000           0.000000      335.000000       0.000000  \n",
       "max         1096.000000         168.000000    85949.000000    4754.000000  "
      ]
     },
     "execution_count": 29,
     "metadata": {},
     "output_type": "execute_result"
    }
   ],
   "source": [
    "inputs_init.loc[inputs_init['total_time'] >= 0].describe()"
   ]
  },
  {
   "cell_type": "code",
   "execution_count": 30,
   "id": "50bc19e6",
   "metadata": {},
   "outputs": [],
   "source": [
    "chk = inputs_init.copy()"
   ]
  },
  {
   "cell_type": "code",
   "execution_count": 31,
   "id": "1dee6d78",
   "metadata": {},
   "outputs": [],
   "source": [
    "chk['zero_time'] = np.where(chk['start_time'] == chk['end_time'], 1, 0)"
   ]
  },
  {
   "cell_type": "code",
   "execution_count": 32,
   "id": "205fc781",
   "metadata": {},
   "outputs": [
    {
     "data": {
      "text/plain": [
       "0.26314121050152117"
      ]
     },
     "execution_count": 32,
     "metadata": {},
     "output_type": "execute_result"
    }
   ],
   "source": [
    "chk['zero_time'].mean()"
   ]
  },
  {
   "cell_type": "markdown",
   "id": "f1c2b6fd",
   "metadata": {},
   "source": [
    "##### Change values to NaN or NaT for  `idle_time`, `total_time`, `start_time`, and `end_time` for values that are considered missing:\n",
    "\n",
    "* Negative `idle_time` values\n",
    "* Zero `total_time` values\n",
    "* Negative `total_time` values and the corresponding `start_date` and `end_date`"
   ]
  },
  {
   "cell_type": "code",
   "execution_count": 33,
   "id": "27ceb14d",
   "metadata": {},
   "outputs": [],
   "source": [
    "inputs_init['idle_time'] = inputs_init['idle_time'].astype('float')\n",
    "inputs_init['total_time'] = inputs_init['total_time'].astype('float')"
   ]
  },
  {
   "cell_type": "code",
   "execution_count": 34,
   "id": "198a78df",
   "metadata": {},
   "outputs": [],
   "source": [
    "inputs_init['idle_time'] = [x if x >= 0 else np.nan for x in inputs_init['idle_time']]"
   ]
  },
  {
   "cell_type": "code",
   "execution_count": 35,
   "id": "bb4972d3",
   "metadata": {},
   "outputs": [],
   "source": [
    "inputs_init['total_time'] = [x if x >= 0 else np.nan for x in inputs_init['total_time']]"
   ]
  },
  {
   "cell_type": "code",
   "execution_count": 36,
   "id": "583ecf3e",
   "metadata": {},
   "outputs": [
    {
     "data": {
      "text/plain": [
       "count    2.269710e+05\n",
       "mean     1.144022e+06\n",
       "std      2.977009e+07\n",
       "min      0.000000e+00\n",
       "25%      0.000000e+00\n",
       "50%      8.000000e+01\n",
       "75%      5.740500e+03\n",
       "max      7.244736e+09\n",
       "Name: idle_time, dtype: float64"
      ]
     },
     "execution_count": 36,
     "metadata": {},
     "output_type": "execute_result"
    }
   ],
   "source": [
    "inputs_init['idle_time'].describe()"
   ]
  },
  {
   "cell_type": "code",
   "execution_count": 37,
   "id": "2fe408df",
   "metadata": {},
   "outputs": [
    {
     "data": {
      "text/plain": [
       "count    2.271280e+05\n",
       "mean     1.586071e+04\n",
       "std      6.110590e+04\n",
       "min      0.000000e+00\n",
       "25%      0.000000e+00\n",
       "50%      2.000000e+03\n",
       "75%      9.000000e+03\n",
       "max      3.861000e+06\n",
       "Name: total_time, dtype: float64"
      ]
     },
     "execution_count": 37,
     "metadata": {},
     "output_type": "execute_result"
    }
   ],
   "source": [
    "inputs_init['total_time'].describe()"
   ]
  },
  {
   "cell_type": "code",
   "execution_count": 38,
   "id": "7a15221b",
   "metadata": {},
   "outputs": [
    {
     "data": {
      "text/plain": [
       "1"
      ]
     },
     "execution_count": 38,
     "metadata": {},
     "output_type": "execute_result"
    }
   ],
   "source": [
    "inputs_init['total_time'].loc[inputs_init['total_time'].isna()].shape[0]"
   ]
  },
  {
   "cell_type": "code",
   "execution_count": 39,
   "id": "6ffedd87",
   "metadata": {},
   "outputs": [],
   "source": [
    "inputs_init['start_time'] = [np.nan if i > j else i for (i, j) in zip(inputs_init['start_time'],inputs_init['end_time'])]"
   ]
  },
  {
   "cell_type": "markdown",
   "id": "728f1b1d",
   "metadata": {},
   "source": [
    "## This is not working"
   ]
  },
  {
   "cell_type": "code",
   "execution_count": 40,
   "id": "b9e0d085",
   "metadata": {},
   "outputs": [],
   "source": [
    "inputs_init['end_time'] = [np.nan if i in [np.nan] else j for (i, j) in zip(inputs_init['start_time'],inputs_init['end_time'])]"
   ]
  },
  {
   "cell_type": "code",
   "execution_count": 41,
   "id": "51ea6bfc",
   "metadata": {},
   "outputs": [],
   "source": [
    "inputs_init['total_time'] = [np.nan if x == 0 else x for x in inputs_init['total_time']]"
   ]
  },
  {
   "cell_type": "code",
   "execution_count": 42,
   "id": "f7d5eea8",
   "metadata": {},
   "outputs": [
    {
     "name": "stdout",
     "output_type": "stream",
     "text": [
      "<class 'pandas.core.frame.DataFrame'>\n",
      "RangeIndex: 227129 entries, 0 to 227128\n",
      "Data columns (total 16 columns):\n",
      " #   Column             Non-Null Count   Dtype         \n",
      "---  ------             --------------   -----         \n",
      " 0   session            227129 non-null  object        \n",
      " 1   student_id         227129 non-null  object        \n",
      " 2   exercise           227129 non-null  object        \n",
      " 3   activity           227129 non-null  object        \n",
      " 4   activity_grp       227129 non-null  object        \n",
      " 5   activity_ex        111979 non-null  object        \n",
      " 6   start_time         227128 non-null  datetime64[ns]\n",
      " 7   end_time           227129 non-null  datetime64[ns]\n",
      " 8   total_time         167361 non-null  float64       \n",
      " 9   idle_time          226971 non-null  float64       \n",
      " 10  mouse_wheel        227129 non-null  int64         \n",
      " 11  mouse_wheel_click  227129 non-null  int64         \n",
      " 12  mouse_click_left   227129 non-null  int64         \n",
      " 13  mouse_click_right  227129 non-null  int64         \n",
      " 14  mouse_movement     227129 non-null  int64         \n",
      " 15  keystroke          227129 non-null  int64         \n",
      "dtypes: datetime64[ns](2), float64(2), int64(6), object(6)\n",
      "memory usage: 27.7+ MB\n"
     ]
    }
   ],
   "source": [
    "inputs_init.info()"
   ]
  },
  {
   "cell_type": "markdown",
   "id": "ada85416",
   "metadata": {},
   "source": [
    "##### Calculate `active_time` as difference between `total_time` and `idle_time`"
   ]
  },
  {
   "cell_type": "code",
   "execution_count": 43,
   "id": "7d2ee349",
   "metadata": {},
   "outputs": [],
   "source": [
    "inputs_init['active_time'] = inputs_init['total_time'] - inputs_init['idle_time']"
   ]
  },
  {
   "cell_type": "code",
   "execution_count": 44,
   "id": "6cd165b6",
   "metadata": {},
   "outputs": [
    {
     "data": {
      "text/plain": [
       "count    1.672030e+05\n",
       "mean    -1.531443e+06\n",
       "std      3.463102e+07\n",
       "min     -7.240875e+09\n",
       "25%     -6.677000e+03\n",
       "50%      1.000000e+03\n",
       "75%      2.922000e+03\n",
       "max      3.738236e+06\n",
       "Name: active_time, dtype: float64"
      ]
     },
     "execution_count": 44,
     "metadata": {},
     "output_type": "execute_result"
    }
   ],
   "source": [
    "inputs_init['active_time'].describe()"
   ]
  },
  {
   "cell_type": "code",
   "execution_count": 45,
   "id": "bceb24d8",
   "metadata": {},
   "outputs": [],
   "source": [
    "chk['neg_active'] = np.where(chk['idle_time'] > chk['total_time'], 1, 0)"
   ]
  },
  {
   "cell_type": "code",
   "execution_count": 46,
   "id": "48d66cb7",
   "metadata": {},
   "outputs": [
    {
     "data": {
      "text/plain": [
       "0.23423693143543978"
      ]
     },
     "execution_count": 46,
     "metadata": {},
     "output_type": "execute_result"
    }
   ],
   "source": [
    "chk['neg_active'].mean()"
   ]
  },
  {
   "cell_type": "code",
   "execution_count": 47,
   "id": "c9b1e0e1",
   "metadata": {},
   "outputs": [
    {
     "data": {
      "text/html": [
       "<div>\n",
       "<style scoped>\n",
       "    .dataframe tbody tr th:only-of-type {\n",
       "        vertical-align: middle;\n",
       "    }\n",
       "\n",
       "    .dataframe tbody tr th {\n",
       "        vertical-align: top;\n",
       "    }\n",
       "\n",
       "    .dataframe thead th {\n",
       "        text-align: right;\n",
       "    }\n",
       "</style>\n",
       "<table border=\"1\" class=\"dataframe\">\n",
       "  <thead>\n",
       "    <tr style=\"text-align: right;\">\n",
       "      <th></th>\n",
       "      <th>total_time</th>\n",
       "      <th>idle_time</th>\n",
       "      <th>mouse_wheel</th>\n",
       "      <th>mouse_wheel_click</th>\n",
       "      <th>mouse_click_left</th>\n",
       "      <th>mouse_click_right</th>\n",
       "      <th>mouse_movement</th>\n",
       "      <th>keystroke</th>\n",
       "      <th>active_time</th>\n",
       "    </tr>\n",
       "  </thead>\n",
       "  <tbody>\n",
       "    <tr>\n",
       "      <th>count</th>\n",
       "      <td>5.320100e+04</td>\n",
       "      <td>5.320100e+04</td>\n",
       "      <td>53201.000000</td>\n",
       "      <td>53201.000000</td>\n",
       "      <td>53201.000000</td>\n",
       "      <td>53201.000000</td>\n",
       "      <td>53201.000000</td>\n",
       "      <td>53201.000000</td>\n",
       "      <td>5.320100e+04</td>\n",
       "    </tr>\n",
       "    <tr>\n",
       "      <th>mean</th>\n",
       "      <td>5.796536e+04</td>\n",
       "      <td>4.877783e+06</td>\n",
       "      <td>8.263510</td>\n",
       "      <td>0.012669</td>\n",
       "      <td>18.430311</td>\n",
       "      <td>1.080656</td>\n",
       "      <td>1108.941975</td>\n",
       "      <td>22.798087</td>\n",
       "      <td>-4.819818e+06</td>\n",
       "    </tr>\n",
       "    <tr>\n",
       "      <th>std</th>\n",
       "      <td>1.147357e+05</td>\n",
       "      <td>6.134233e+07</td>\n",
       "      <td>53.465434</td>\n",
       "      <td>0.417148</td>\n",
       "      <td>41.435602</td>\n",
       "      <td>6.058820</td>\n",
       "      <td>2441.302877</td>\n",
       "      <td>97.327373</td>\n",
       "      <td>6.126529e+07</td>\n",
       "    </tr>\n",
       "    <tr>\n",
       "      <th>min</th>\n",
       "      <td>1.000000e+03</td>\n",
       "      <td>1.001000e+03</td>\n",
       "      <td>0.000000</td>\n",
       "      <td>0.000000</td>\n",
       "      <td>0.000000</td>\n",
       "      <td>0.000000</td>\n",
       "      <td>0.000000</td>\n",
       "      <td>0.000000</td>\n",
       "      <td>-7.240875e+09</td>\n",
       "    </tr>\n",
       "    <tr>\n",
       "      <th>25%</th>\n",
       "      <td>1.200000e+04</td>\n",
       "      <td>2.384900e+04</td>\n",
       "      <td>0.000000</td>\n",
       "      <td>0.000000</td>\n",
       "      <td>2.000000</td>\n",
       "      <td>0.000000</td>\n",
       "      <td>155.000000</td>\n",
       "      <td>0.000000</td>\n",
       "      <td>-6.285500e+05</td>\n",
       "    </tr>\n",
       "    <tr>\n",
       "      <th>50%</th>\n",
       "      <td>2.600000e+04</td>\n",
       "      <td>1.062540e+05</td>\n",
       "      <td>0.000000</td>\n",
       "      <td>0.000000</td>\n",
       "      <td>5.000000</td>\n",
       "      <td>0.000000</td>\n",
       "      <td>435.000000</td>\n",
       "      <td>0.000000</td>\n",
       "      <td>-7.816000e+04</td>\n",
       "    </tr>\n",
       "    <tr>\n",
       "      <th>75%</th>\n",
       "      <td>5.800000e+04</td>\n",
       "      <td>6.877070e+05</td>\n",
       "      <td>0.000000</td>\n",
       "      <td>0.000000</td>\n",
       "      <td>16.000000</td>\n",
       "      <td>0.000000</td>\n",
       "      <td>1106.000000</td>\n",
       "      <td>4.000000</td>\n",
       "      <td>-9.661000e+03</td>\n",
       "    </tr>\n",
       "    <tr>\n",
       "      <th>max</th>\n",
       "      <td>3.861000e+06</td>\n",
       "      <td>7.244736e+09</td>\n",
       "      <td>2904.000000</td>\n",
       "      <td>60.000000</td>\n",
       "      <td>1096.000000</td>\n",
       "      <td>168.000000</td>\n",
       "      <td>85949.000000</td>\n",
       "      <td>3102.000000</td>\n",
       "      <td>-1.000000e+00</td>\n",
       "    </tr>\n",
       "  </tbody>\n",
       "</table>\n",
       "</div>"
      ],
      "text/plain": [
       "         total_time     idle_time   mouse_wheel  mouse_wheel_click  \\\n",
       "count  5.320100e+04  5.320100e+04  53201.000000       53201.000000   \n",
       "mean   5.796536e+04  4.877783e+06      8.263510           0.012669   \n",
       "std    1.147357e+05  6.134233e+07     53.465434           0.417148   \n",
       "min    1.000000e+03  1.001000e+03      0.000000           0.000000   \n",
       "25%    1.200000e+04  2.384900e+04      0.000000           0.000000   \n",
       "50%    2.600000e+04  1.062540e+05      0.000000           0.000000   \n",
       "75%    5.800000e+04  6.877070e+05      0.000000           0.000000   \n",
       "max    3.861000e+06  7.244736e+09   2904.000000          60.000000   \n",
       "\n",
       "       mouse_click_left  mouse_click_right  mouse_movement     keystroke  \\\n",
       "count      53201.000000       53201.000000    53201.000000  53201.000000   \n",
       "mean          18.430311           1.080656     1108.941975     22.798087   \n",
       "std           41.435602           6.058820     2441.302877     97.327373   \n",
       "min            0.000000           0.000000        0.000000      0.000000   \n",
       "25%            2.000000           0.000000      155.000000      0.000000   \n",
       "50%            5.000000           0.000000      435.000000      0.000000   \n",
       "75%           16.000000           0.000000     1106.000000      4.000000   \n",
       "max         1096.000000         168.000000    85949.000000   3102.000000   \n",
       "\n",
       "        active_time  \n",
       "count  5.320100e+04  \n",
       "mean  -4.819818e+06  \n",
       "std    6.126529e+07  \n",
       "min   -7.240875e+09  \n",
       "25%   -6.285500e+05  \n",
       "50%   -7.816000e+04  \n",
       "75%   -9.661000e+03  \n",
       "max   -1.000000e+00  "
      ]
     },
     "execution_count": 47,
     "metadata": {},
     "output_type": "execute_result"
    }
   ],
   "source": [
    "inputs_init.loc[inputs_init['active_time'] < 0].describe()"
   ]
  },
  {
   "cell_type": "markdown",
   "id": "11185ad5",
   "metadata": {},
   "source": [
    "##### Change negative `active_time` to NaN"
   ]
  },
  {
   "cell_type": "code",
   "execution_count": 48,
   "id": "7f962716",
   "metadata": {},
   "outputs": [],
   "source": [
    "inputs_init['active_time'] = [x if x >= 0 else np.nan for x in inputs_init['active_time']]"
   ]
  },
  {
   "cell_type": "code",
   "execution_count": 49,
   "id": "b4aec8e9",
   "metadata": {},
   "outputs": [
    {
     "data": {
      "text/plain": [
       "count    1.140020e+05\n",
       "mean     3.133633e+03\n",
       "std      1.331645e+04\n",
       "min      0.000000e+00\n",
       "25%      1.000000e+03\n",
       "50%      2.000000e+03\n",
       "75%      3.889000e+03\n",
       "max      3.738236e+06\n",
       "Name: active_time, dtype: float64"
      ]
     },
     "execution_count": 49,
     "metadata": {},
     "output_type": "execute_result"
    }
   ],
   "source": [
    "inputs_init['active_time'].describe()"
   ]
  },
  {
   "cell_type": "markdown",
   "id": "17dc8c34",
   "metadata": {},
   "source": [
    "### Evaluate categorical variables"
   ]
  },
  {
   "cell_type": "code",
   "execution_count": 50,
   "id": "d1fcca0e",
   "metadata": {},
   "outputs": [
    {
     "name": "stdout",
     "output_type": "stream",
     "text": [
      "<class 'pandas.core.frame.DataFrame'>\n",
      "RangeIndex: 227129 entries, 0 to 227128\n",
      "Data columns (total 17 columns):\n",
      " #   Column             Non-Null Count   Dtype         \n",
      "---  ------             --------------   -----         \n",
      " 0   session            227129 non-null  object        \n",
      " 1   student_id         227129 non-null  object        \n",
      " 2   exercise           227129 non-null  object        \n",
      " 3   activity           227129 non-null  object        \n",
      " 4   activity_grp       227129 non-null  object        \n",
      " 5   activity_ex        111979 non-null  object        \n",
      " 6   start_time         227128 non-null  datetime64[ns]\n",
      " 7   end_time           227129 non-null  datetime64[ns]\n",
      " 8   total_time         167361 non-null  float64       \n",
      " 9   idle_time          226971 non-null  float64       \n",
      " 10  mouse_wheel        227129 non-null  int64         \n",
      " 11  mouse_wheel_click  227129 non-null  int64         \n",
      " 12  mouse_click_left   227129 non-null  int64         \n",
      " 13  mouse_click_right  227129 non-null  int64         \n",
      " 14  mouse_movement     227129 non-null  int64         \n",
      " 15  keystroke          227129 non-null  int64         \n",
      " 16  active_time        114002 non-null  float64       \n",
      "dtypes: datetime64[ns](2), float64(3), int64(6), object(6)\n",
      "memory usage: 29.5+ MB\n"
     ]
    }
   ],
   "source": [
    "inputs_init.info()"
   ]
  },
  {
   "cell_type": "code",
   "execution_count": 51,
   "id": "20272288",
   "metadata": {},
   "outputs": [
    {
     "data": {
      "text/plain": [
       "30"
      ]
     },
     "execution_count": 51,
     "metadata": {},
     "output_type": "execute_result"
    }
   ],
   "source": [
    "inputs_init.exercise.nunique()"
   ]
  },
  {
   "cell_type": "code",
   "execution_count": 52,
   "id": "afd2e6d2",
   "metadata": {},
   "outputs": [
    {
     "data": {
      "text/plain": [
       "array(['Es', 'Es_1_1', 'Es_1_2', 'Es_1_4', 'Es_1_3', 'Es_2_1', 'Es_2_2',\n",
       "       'Es_2_3', 'Es_2_4', 'Es_2_5', 'Es_2_6', 'Es_3_1', 'Es_3_2',\n",
       "       'Es_3_3', 'Es_3_4', 'Es_4_1', 'Es_4_2', 'Es_4_3', 'Es_4_4',\n",
       "       'Es_4_5', 'Es_5_2', 'Es_5_1', 'Es_5_3', 'Es_5_4', 'Es_6_1',\n",
       "       'Es_6_2', 'Es_6_3', 'Es_6_4', 'Es_6_6', 'Es_6_5'], dtype=object)"
      ]
     },
     "execution_count": 52,
     "metadata": {},
     "output_type": "execute_result"
    }
   ],
   "source": [
    "inputs_init.exercise.unique()"
   ]
  },
  {
   "cell_type": "code",
   "execution_count": 53,
   "id": "c2bce929",
   "metadata": {},
   "outputs": [
    {
     "data": {
      "text/plain": [
       "99"
      ]
     },
     "execution_count": 53,
     "metadata": {},
     "output_type": "execute_result"
    }
   ],
   "source": [
    "inputs_init.activity.nunique()"
   ]
  },
  {
   "cell_type": "code",
   "execution_count": 54,
   "id": "ec3d5f88",
   "metadata": {},
   "outputs": [
    {
     "data": {
      "text/plain": [
       "array(['Other', 'Aulaweb', 'Blank', 'Deeds', 'Study', 'Properties',\n",
       "       'Diagram', 'TextEditor', 'Study_Materials', 'Fsm_Related', 'FSM',\n",
       "       'FSM_Related'], dtype=object)"
      ]
     },
     "execution_count": 54,
     "metadata": {},
     "output_type": "execute_result"
    }
   ],
   "source": [
    "inputs_init.activity_grp.unique()"
   ]
  },
  {
   "cell_type": "code",
   "execution_count": 55,
   "id": "ee50bda2",
   "metadata": {},
   "outputs": [
    {
     "data": {
      "text/plain": [
       "12"
      ]
     },
     "execution_count": 55,
     "metadata": {},
     "output_type": "execute_result"
    }
   ],
   "source": [
    "inputs_init.activity_grp.nunique()"
   ]
  },
  {
   "cell_type": "code",
   "execution_count": 56,
   "id": "37d9794c",
   "metadata": {},
   "outputs": [
    {
     "data": {
      "text/plain": [
       "array(['Other', 'Aulaweb', 'Blank', 'Deeds', 'Study', 'Properties',\n",
       "       'Diagram', 'TextEditor', 'Study_Materials', 'Fsm_Related', 'FSM',\n",
       "       'FSM_Related'], dtype=object)"
      ]
     },
     "execution_count": 56,
     "metadata": {},
     "output_type": "execute_result"
    }
   ],
   "source": [
    "inputs_init.activity_grp.unique()"
   ]
  },
  {
   "cell_type": "code",
   "execution_count": 57,
   "id": "34eadf89",
   "metadata": {},
   "outputs": [
    {
     "data": {
      "text/plain": [
       "TextEditor         41900\n",
       "Deeds              38000\n",
       "Other              33009\n",
       "Blank              23929\n",
       "Study              21540\n",
       "Diagram            20546\n",
       "Properties         19419\n",
       "FSM                17000\n",
       "Aulaweb             8113\n",
       "FSM_Related         3250\n",
       "Study_Materials      398\n",
       "Fsm_Related           25\n",
       "Name: activity_grp, dtype: int64"
      ]
     },
     "execution_count": 57,
     "metadata": {},
     "output_type": "execute_result"
    }
   ],
   "source": [
    "inputs_init.activity_grp.value_counts()"
   ]
  },
  {
   "cell_type": "code",
   "execution_count": 58,
   "id": "c5bdb4c5",
   "metadata": {},
   "outputs": [
    {
     "data": {
      "text/plain": [
       "29"
      ]
     },
     "execution_count": 58,
     "metadata": {},
     "output_type": "execute_result"
    }
   ],
   "source": [
    "inputs_init.activity_ex.nunique()"
   ]
  },
  {
   "cell_type": "code",
   "execution_count": 59,
   "id": "8867a9bf",
   "metadata": {},
   "outputs": [
    {
     "data": {
      "text/plain": [
       "array([nan, 'Es_1_1', 'Es_1_2', 'Es_1_4', 'Es_3_1', 'Es_1_3', 'Es_4_1',\n",
       "       'Es_4_2', 'Es_4_3', 'Es_4_4', 'Es_2_1', 'Es_2_2', 'Es_2_3',\n",
       "       'Es_2_4', 'Es_2_5', 'Es_2_6', 'Es_3_2', 'Es_3_3', 'Es_3_4',\n",
       "       'Es_4_5', 'Es_5_2', 'Es_5_1', 'Es_5_3', 'Es_5_4', 'Es_6_1',\n",
       "       'Es_6_2', 'Es_6_3', 'Es_6_4', 'Es_6_6', 'Es_6_5'], dtype=object)"
      ]
     },
     "execution_count": 59,
     "metadata": {},
     "output_type": "execute_result"
    }
   ],
   "source": [
    "inputs_init.activity_ex.unique()"
   ]
  },
  {
   "cell_type": "code",
   "execution_count": 60,
   "id": "552a1cd9",
   "metadata": {
    "scrolled": true
   },
   "outputs": [
    {
     "data": {
      "text/plain": [
       "Es_6_3    10471\n",
       "Es_6_2     8356\n",
       "Es_6_1     7105\n",
       "Es_4_5     6812\n",
       "Es_5_4     6671\n",
       "Es_3_2     6094\n",
       "Es_2_2     5665\n",
       "Es_5_1     4790\n",
       "Es_1_2     4752\n",
       "Es_5_3     4484\n",
       "Es_2_4     4454\n",
       "Es_3_1     4340\n",
       "Es_1_1     4325\n",
       "Es_2_1     4318\n",
       "Es_1_3     3491\n",
       "Es_2_3     3209\n",
       "Es_4_1     2711\n",
       "Es_5_2     2684\n",
       "Es_3_4     2595\n",
       "Es_3_3     2548\n",
       "Es_1_4     2517\n",
       "Es_2_5     2379\n",
       "Es_4_2     1892\n",
       "Es_4_3     1729\n",
       "Es_4_4     1574\n",
       "Es_2_6     1311\n",
       "Es_6_4      629\n",
       "Es_6_5       37\n",
       "Es_6_6       36\n",
       "Name: activity_ex, dtype: int64"
      ]
     },
     "execution_count": 60,
     "metadata": {},
     "output_type": "execute_result"
    }
   ],
   "source": [
    "inputs_init.activity_ex.value_counts()"
   ]
  },
  {
   "cell_type": "markdown",
   "id": "5cb496b3",
   "metadata": {},
   "source": [
    "### Evaluate numeric variables"
   ]
  },
  {
   "cell_type": "code",
   "execution_count": 61,
   "id": "0760fc24",
   "metadata": {},
   "outputs": [
    {
     "name": "stdout",
     "output_type": "stream",
     "text": [
      "<class 'pandas.core.frame.DataFrame'>\n",
      "RangeIndex: 227129 entries, 0 to 227128\n",
      "Data columns (total 17 columns):\n",
      " #   Column             Non-Null Count   Dtype         \n",
      "---  ------             --------------   -----         \n",
      " 0   session            227129 non-null  object        \n",
      " 1   student_id         227129 non-null  object        \n",
      " 2   exercise           227129 non-null  object        \n",
      " 3   activity           227129 non-null  object        \n",
      " 4   activity_grp       227129 non-null  object        \n",
      " 5   activity_ex        111979 non-null  object        \n",
      " 6   start_time         227128 non-null  datetime64[ns]\n",
      " 7   end_time           227129 non-null  datetime64[ns]\n",
      " 8   total_time         167361 non-null  float64       \n",
      " 9   idle_time          226971 non-null  float64       \n",
      " 10  mouse_wheel        227129 non-null  int64         \n",
      " 11  mouse_wheel_click  227129 non-null  int64         \n",
      " 12  mouse_click_left   227129 non-null  int64         \n",
      " 13  mouse_click_right  227129 non-null  int64         \n",
      " 14  mouse_movement     227129 non-null  int64         \n",
      " 15  keystroke          227129 non-null  int64         \n",
      " 16  active_time        114002 non-null  float64       \n",
      "dtypes: datetime64[ns](2), float64(3), int64(6), object(6)\n",
      "memory usage: 29.5+ MB\n"
     ]
    }
   ],
   "source": [
    "inputs_init.info()"
   ]
  },
  {
   "cell_type": "markdown",
   "id": "3d9bd010",
   "metadata": {},
   "source": [
    "##### Create functions to get summary of numeric columns\n",
    "\n",
    "Trivial groupby column to aggregate on all rows per the following:\n",
    "\n",
    "https://github.com/pandas-dev/pandas/issues/41768"
   ]
  },
  {
   "cell_type": "code",
   "execution_count": 62,
   "id": "5224ff71",
   "metadata": {},
   "outputs": [],
   "source": [
    "def my_q25(values):\n",
    "    return np.percentile( values, q=25 )"
   ]
  },
  {
   "cell_type": "code",
   "execution_count": 63,
   "id": "b07513e1",
   "metadata": {},
   "outputs": [],
   "source": [
    "def my_q75(values):\n",
    "    return np.percentile( values, q=75 )"
   ]
  },
  {
   "cell_type": "code",
   "execution_count": 64,
   "id": "f5e43382",
   "metadata": {},
   "outputs": [],
   "source": [
    "def my_iqr(values):\n",
    "    return my_q75(values) - my_q25(values)"
   ]
  },
  {
   "cell_type": "code",
   "execution_count": 65,
   "id": "f4dc8179",
   "metadata": {},
   "outputs": [],
   "source": [
    "def upper_outlier_bound(values): \n",
    "    return my_q75(values) + 1.5 * my_iqr(values)"
   ]
  },
  {
   "cell_type": "code",
   "execution_count": 66,
   "id": "55cf828b",
   "metadata": {},
   "outputs": [],
   "source": [
    "def lower_outlier_bound(values): \n",
    "    return my_q25(values) - 1.5 * my_iqr(values)"
   ]
  },
  {
   "cell_type": "code",
   "execution_count": 67,
   "id": "bd48c710",
   "metadata": {},
   "outputs": [],
   "source": [
    "def var_name(values):\n",
    "    return values.name"
   ]
  },
  {
   "cell_type": "code",
   "execution_count": 68,
   "id": "213d7a8b",
   "metadata": {},
   "outputs": [],
   "source": [
    "def outliers_exist(values):\n",
    "    if (values.min() < lower_outlier_bound(values)) or (values.max() > upper_outlier_bound(values)):\n",
    "        return 'Yes'\n",
    "    else: \n",
    "        return 'No'"
   ]
  },
  {
   "cell_type": "code",
   "execution_count": 69,
   "id": "73674c88",
   "metadata": {},
   "outputs": [],
   "source": [
    "def percent_outliers(values):\n",
    "    df = pd.DataFrame(values)\n",
    "    df['outlier'] = np.where((df[values.name] < lower_outlier_bound(values)) | (df[values.name] > upper_outlier_bound(values)), 1, 0)\n",
    "    return round(df['outlier'].mean()*100, 1)"
   ]
  },
  {
   "cell_type": "code",
   "execution_count": 70,
   "id": "d4d69e70",
   "metadata": {},
   "outputs": [],
   "source": [
    "def get_summary(df_in):\n",
    "    \n",
    "    df_out = pd.DataFrame(columns=['var_name', 'nunique', 'mean', 'median', \n",
    "                                   'min', 'lower_outlier_bound', 'max', 'upper_outlier_bound',\n",
    "                                   'outliers_exist', 'percent_outliers'])\n",
    "    \n",
    "    # add trivial groupby column\n",
    "    df_in['all'] = 'grp_all'\n",
    "    \n",
    "    for var in df_in.select_dtypes('number').columns.tolist():\n",
    "        df_out = pd.concat([df_out, df_in.groupby(['all'])[var].\\\n",
    "                           aggregate( [var_name, 'nunique', 'mean', 'median', \n",
    "                                       'min', lower_outlier_bound, 'max', upper_outlier_bound, \n",
    "                                       outliers_exist, percent_outliers] ).\\\n",
    "                           reset_index().copy()])\n",
    "        \n",
    "    return df_out.drop('all', axis=1)"
   ]
  },
  {
   "cell_type": "code",
   "execution_count": 71,
   "id": "8943d5d5",
   "metadata": {},
   "outputs": [
    {
     "data": {
      "text/html": [
       "<div>\n",
       "<style scoped>\n",
       "    .dataframe tbody tr th:only-of-type {\n",
       "        vertical-align: middle;\n",
       "    }\n",
       "\n",
       "    .dataframe tbody tr th {\n",
       "        vertical-align: top;\n",
       "    }\n",
       "\n",
       "    .dataframe thead th {\n",
       "        text-align: right;\n",
       "    }\n",
       "</style>\n",
       "<table border=\"1\" class=\"dataframe\">\n",
       "  <thead>\n",
       "    <tr style=\"text-align: right;\">\n",
       "      <th></th>\n",
       "      <th>var_name</th>\n",
       "      <th>nunique</th>\n",
       "      <th>mean</th>\n",
       "      <th>median</th>\n",
       "      <th>min</th>\n",
       "      <th>lower_outlier_bound</th>\n",
       "      <th>max</th>\n",
       "      <th>upper_outlier_bound</th>\n",
       "      <th>outliers_exist</th>\n",
       "      <th>percent_outliers</th>\n",
       "    </tr>\n",
       "  </thead>\n",
       "  <tbody>\n",
       "    <tr>\n",
       "      <th>0</th>\n",
       "      <td>total_time</td>\n",
       "      <td>889</td>\n",
       "      <td>2.152479e+04</td>\n",
       "      <td>4000.0</td>\n",
       "      <td>1000.0</td>\n",
       "      <td>NaN</td>\n",
       "      <td>3.861000e+06</td>\n",
       "      <td>NaN</td>\n",
       "      <td>No</td>\n",
       "      <td>0.0</td>\n",
       "    </tr>\n",
       "    <tr>\n",
       "      <th>0</th>\n",
       "      <td>idle_time</td>\n",
       "      <td>54071</td>\n",
       "      <td>1.144022e+06</td>\n",
       "      <td>80.0</td>\n",
       "      <td>0.0</td>\n",
       "      <td>NaN</td>\n",
       "      <td>7.244736e+09</td>\n",
       "      <td>NaN</td>\n",
       "      <td>No</td>\n",
       "      <td>0.0</td>\n",
       "    </tr>\n",
       "    <tr>\n",
       "      <th>0</th>\n",
       "      <td>mouse_wheel</td>\n",
       "      <td>460</td>\n",
       "      <td>2.707109e+00</td>\n",
       "      <td>0.0</td>\n",
       "      <td>0.0</td>\n",
       "      <td>0.0</td>\n",
       "      <td>2.904000e+03</td>\n",
       "      <td>0.0</td>\n",
       "      <td>Yes</td>\n",
       "      <td>9.2</td>\n",
       "    </tr>\n",
       "    <tr>\n",
       "      <th>0</th>\n",
       "      <td>mouse_wheel_click</td>\n",
       "      <td>17</td>\n",
       "      <td>5.450647e-03</td>\n",
       "      <td>0.0</td>\n",
       "      <td>0.0</td>\n",
       "      <td>0.0</td>\n",
       "      <td>6.000000e+01</td>\n",
       "      <td>0.0</td>\n",
       "      <td>Yes</td>\n",
       "      <td>0.2</td>\n",
       "    </tr>\n",
       "    <tr>\n",
       "      <th>0</th>\n",
       "      <td>mouse_click_left</td>\n",
       "      <td>394</td>\n",
       "      <td>7.075939e+00</td>\n",
       "      <td>2.0</td>\n",
       "      <td>0.0</td>\n",
       "      <td>-2.5</td>\n",
       "      <td>1.096000e+03</td>\n",
       "      <td>9.5</td>\n",
       "      <td>Yes</td>\n",
       "      <td>12.9</td>\n",
       "    </tr>\n",
       "    <tr>\n",
       "      <th>0</th>\n",
       "      <td>mouse_click_right</td>\n",
       "      <td>75</td>\n",
       "      <td>3.368306e-01</td>\n",
       "      <td>0.0</td>\n",
       "      <td>0.0</td>\n",
       "      <td>0.0</td>\n",
       "      <td>1.680000e+02</td>\n",
       "      <td>0.0</td>\n",
       "      <td>Yes</td>\n",
       "      <td>5.6</td>\n",
       "    </tr>\n",
       "    <tr>\n",
       "      <th>0</th>\n",
       "      <td>mouse_movement</td>\n",
       "      <td>6221</td>\n",
       "      <td>4.146278e+02</td>\n",
       "      <td>137.0</td>\n",
       "      <td>0.0</td>\n",
       "      <td>-347.5</td>\n",
       "      <td>8.594900e+04</td>\n",
       "      <td>744.5</td>\n",
       "      <td>Yes</td>\n",
       "      <td>11.5</td>\n",
       "    </tr>\n",
       "    <tr>\n",
       "      <th>0</th>\n",
       "      <td>keystroke</td>\n",
       "      <td>808</td>\n",
       "      <td>6.281897e+00</td>\n",
       "      <td>0.0</td>\n",
       "      <td>0.0</td>\n",
       "      <td>0.0</td>\n",
       "      <td>4.754000e+03</td>\n",
       "      <td>0.0</td>\n",
       "      <td>Yes</td>\n",
       "      <td>14.7</td>\n",
       "    </tr>\n",
       "    <tr>\n",
       "      <th>0</th>\n",
       "      <td>active_time</td>\n",
       "      <td>12018</td>\n",
       "      <td>3.133633e+03</td>\n",
       "      <td>2000.0</td>\n",
       "      <td>0.0</td>\n",
       "      <td>NaN</td>\n",
       "      <td>3.738236e+06</td>\n",
       "      <td>NaN</td>\n",
       "      <td>No</td>\n",
       "      <td>0.0</td>\n",
       "    </tr>\n",
       "  </tbody>\n",
       "</table>\n",
       "</div>"
      ],
      "text/plain": [
       "            var_name nunique          mean  median     min  \\\n",
       "0         total_time     889  2.152479e+04  4000.0  1000.0   \n",
       "0          idle_time   54071  1.144022e+06    80.0     0.0   \n",
       "0        mouse_wheel     460  2.707109e+00     0.0     0.0   \n",
       "0  mouse_wheel_click      17  5.450647e-03     0.0     0.0   \n",
       "0   mouse_click_left     394  7.075939e+00     2.0     0.0   \n",
       "0  mouse_click_right      75  3.368306e-01     0.0     0.0   \n",
       "0     mouse_movement    6221  4.146278e+02   137.0     0.0   \n",
       "0          keystroke     808  6.281897e+00     0.0     0.0   \n",
       "0        active_time   12018  3.133633e+03  2000.0     0.0   \n",
       "\n",
       "   lower_outlier_bound           max  upper_outlier_bound outliers_exist  \\\n",
       "0                  NaN  3.861000e+06                  NaN             No   \n",
       "0                  NaN  7.244736e+09                  NaN             No   \n",
       "0                  0.0  2.904000e+03                  0.0            Yes   \n",
       "0                  0.0  6.000000e+01                  0.0            Yes   \n",
       "0                 -2.5  1.096000e+03                  9.5            Yes   \n",
       "0                  0.0  1.680000e+02                  0.0            Yes   \n",
       "0               -347.5  8.594900e+04                744.5            Yes   \n",
       "0                  0.0  4.754000e+03                  0.0            Yes   \n",
       "0                  NaN  3.738236e+06                  NaN             No   \n",
       "\n",
       "   percent_outliers  \n",
       "0               0.0  \n",
       "0               0.0  \n",
       "0               9.2  \n",
       "0               0.2  \n",
       "0              12.9  \n",
       "0               5.6  \n",
       "0              11.5  \n",
       "0              14.7  \n",
       "0               0.0  "
      ]
     },
     "execution_count": 71,
     "metadata": {},
     "output_type": "execute_result"
    }
   ],
   "source": [
    "get_summary(inputs_init.copy())"
   ]
  },
  {
   "cell_type": "markdown",
   "id": "e96d2793",
   "metadata": {},
   "source": [
    "Idle_time has a negative mean. It is supposed to be the the duration of idle time between the start and end time of an activity in milliseconds."
   ]
  },
  {
   "cell_type": "code",
   "execution_count": 72,
   "id": "60efb9a9",
   "metadata": {},
   "outputs": [
    {
     "data": {
      "text/html": [
       "<div>\n",
       "<style scoped>\n",
       "    .dataframe tbody tr th:only-of-type {\n",
       "        vertical-align: middle;\n",
       "    }\n",
       "\n",
       "    .dataframe tbody tr th {\n",
       "        vertical-align: top;\n",
       "    }\n",
       "\n",
       "    .dataframe thead th {\n",
       "        text-align: right;\n",
       "    }\n",
       "</style>\n",
       "<table border=\"1\" class=\"dataframe\">\n",
       "  <thead>\n",
       "    <tr style=\"text-align: right;\">\n",
       "      <th></th>\n",
       "      <th>total_time</th>\n",
       "      <th>idle_time</th>\n",
       "      <th>mouse_wheel</th>\n",
       "      <th>mouse_wheel_click</th>\n",
       "      <th>mouse_click_left</th>\n",
       "      <th>mouse_click_right</th>\n",
       "      <th>mouse_movement</th>\n",
       "      <th>keystroke</th>\n",
       "      <th>active_time</th>\n",
       "    </tr>\n",
       "  </thead>\n",
       "  <tbody>\n",
       "    <tr>\n",
       "      <th>count</th>\n",
       "      <td>1.673610e+05</td>\n",
       "      <td>2.269710e+05</td>\n",
       "      <td>227129.000000</td>\n",
       "      <td>227129.000000</td>\n",
       "      <td>227129.000000</td>\n",
       "      <td>227129.000000</td>\n",
       "      <td>227129.000000</td>\n",
       "      <td>227129.000000</td>\n",
       "      <td>1.140020e+05</td>\n",
       "    </tr>\n",
       "    <tr>\n",
       "      <th>mean</th>\n",
       "      <td>2.152479e+04</td>\n",
       "      <td>1.144022e+06</td>\n",
       "      <td>2.707109</td>\n",
       "      <td>0.005451</td>\n",
       "      <td>7.075939</td>\n",
       "      <td>0.336831</td>\n",
       "      <td>414.627828</td>\n",
       "      <td>6.281897</td>\n",
       "      <td>3.133633e+03</td>\n",
       "    </tr>\n",
       "    <tr>\n",
       "      <th>std</th>\n",
       "      <td>7.032397e+04</td>\n",
       "      <td>2.977009e+07</td>\n",
       "      <td>27.102855</td>\n",
       "      <td>0.224539</td>\n",
       "      <td>21.559259</td>\n",
       "      <td>3.023147</td>\n",
       "      <td>1275.832800</td>\n",
       "      <td>50.948421</td>\n",
       "      <td>1.331645e+04</td>\n",
       "    </tr>\n",
       "    <tr>\n",
       "      <th>min</th>\n",
       "      <td>1.000000e+03</td>\n",
       "      <td>0.000000e+00</td>\n",
       "      <td>0.000000</td>\n",
       "      <td>0.000000</td>\n",
       "      <td>0.000000</td>\n",
       "      <td>0.000000</td>\n",
       "      <td>0.000000</td>\n",
       "      <td>0.000000</td>\n",
       "      <td>0.000000e+00</td>\n",
       "    </tr>\n",
       "    <tr>\n",
       "      <th>25%</th>\n",
       "      <td>2.000000e+03</td>\n",
       "      <td>0.000000e+00</td>\n",
       "      <td>0.000000</td>\n",
       "      <td>0.000000</td>\n",
       "      <td>2.000000</td>\n",
       "      <td>0.000000</td>\n",
       "      <td>62.000000</td>\n",
       "      <td>0.000000</td>\n",
       "      <td>1.000000e+03</td>\n",
       "    </tr>\n",
       "    <tr>\n",
       "      <th>50%</th>\n",
       "      <td>4.000000e+03</td>\n",
       "      <td>8.000000e+01</td>\n",
       "      <td>0.000000</td>\n",
       "      <td>0.000000</td>\n",
       "      <td>2.000000</td>\n",
       "      <td>0.000000</td>\n",
       "      <td>137.000000</td>\n",
       "      <td>0.000000</td>\n",
       "      <td>2.000000e+03</td>\n",
       "    </tr>\n",
       "    <tr>\n",
       "      <th>75%</th>\n",
       "      <td>1.500000e+04</td>\n",
       "      <td>5.740500e+03</td>\n",
       "      <td>0.000000</td>\n",
       "      <td>0.000000</td>\n",
       "      <td>5.000000</td>\n",
       "      <td>0.000000</td>\n",
       "      <td>335.000000</td>\n",
       "      <td>0.000000</td>\n",
       "      <td>3.889000e+03</td>\n",
       "    </tr>\n",
       "    <tr>\n",
       "      <th>max</th>\n",
       "      <td>3.861000e+06</td>\n",
       "      <td>7.244736e+09</td>\n",
       "      <td>2904.000000</td>\n",
       "      <td>60.000000</td>\n",
       "      <td>1096.000000</td>\n",
       "      <td>168.000000</td>\n",
       "      <td>85949.000000</td>\n",
       "      <td>4754.000000</td>\n",
       "      <td>3.738236e+06</td>\n",
       "    </tr>\n",
       "  </tbody>\n",
       "</table>\n",
       "</div>"
      ],
      "text/plain": [
       "         total_time     idle_time    mouse_wheel  mouse_wheel_click  \\\n",
       "count  1.673610e+05  2.269710e+05  227129.000000      227129.000000   \n",
       "mean   2.152479e+04  1.144022e+06       2.707109           0.005451   \n",
       "std    7.032397e+04  2.977009e+07      27.102855           0.224539   \n",
       "min    1.000000e+03  0.000000e+00       0.000000           0.000000   \n",
       "25%    2.000000e+03  0.000000e+00       0.000000           0.000000   \n",
       "50%    4.000000e+03  8.000000e+01       0.000000           0.000000   \n",
       "75%    1.500000e+04  5.740500e+03       0.000000           0.000000   \n",
       "max    3.861000e+06  7.244736e+09    2904.000000          60.000000   \n",
       "\n",
       "       mouse_click_left  mouse_click_right  mouse_movement      keystroke  \\\n",
       "count     227129.000000      227129.000000   227129.000000  227129.000000   \n",
       "mean           7.075939           0.336831      414.627828       6.281897   \n",
       "std           21.559259           3.023147     1275.832800      50.948421   \n",
       "min            0.000000           0.000000        0.000000       0.000000   \n",
       "25%            2.000000           0.000000       62.000000       0.000000   \n",
       "50%            2.000000           0.000000      137.000000       0.000000   \n",
       "75%            5.000000           0.000000      335.000000       0.000000   \n",
       "max         1096.000000         168.000000    85949.000000    4754.000000   \n",
       "\n",
       "        active_time  \n",
       "count  1.140020e+05  \n",
       "mean   3.133633e+03  \n",
       "std    1.331645e+04  \n",
       "min    0.000000e+00  \n",
       "25%    1.000000e+03  \n",
       "50%    2.000000e+03  \n",
       "75%    3.889000e+03  \n",
       "max    3.738236e+06  "
      ]
     },
     "execution_count": 72,
     "metadata": {},
     "output_type": "execute_result"
    }
   ],
   "source": [
    "inputs_init.describe()"
   ]
  },
  {
   "cell_type": "markdown",
   "id": "41b92f63",
   "metadata": {},
   "source": [
    "### Outlier Resolution"
   ]
  },
  {
   "cell_type": "markdown",
   "id": "1dded684",
   "metadata": {},
   "source": [
    "##### Create functions to support outlier resolution"
   ]
  },
  {
   "cell_type": "code",
   "execution_count": 73,
   "id": "48560961",
   "metadata": {},
   "outputs": [],
   "source": [
    "inputs_xdf = inputs_init.copy()"
   ]
  },
  {
   "cell_type": "code",
   "execution_count": 74,
   "id": "08daed35",
   "metadata": {},
   "outputs": [],
   "source": [
    "def upper_extreme_bound(values):\n",
    "    return np.percentile( values, q=97.5 )"
   ]
  },
  {
   "cell_type": "code",
   "execution_count": 75,
   "id": "8b9cd162",
   "metadata": {},
   "outputs": [],
   "source": [
    "def lower_extreme_bound(values):\n",
    "    return np.percentile( values, q=2.5 )"
   ]
  },
  {
   "cell_type": "code",
   "execution_count": 76,
   "id": "39a2c73e",
   "metadata": {},
   "outputs": [],
   "source": [
    "outchk = inputs_init.copy()"
   ]
  },
  {
   "cell_type": "code",
   "execution_count": 77,
   "id": "8958c3e0",
   "metadata": {},
   "outputs": [],
   "source": [
    "outliers = {}"
   ]
  },
  {
   "cell_type": "code",
   "execution_count": 78,
   "id": "3d0909b4",
   "metadata": {},
   "outputs": [],
   "source": [
    "vars_to_chk = ['total_time', 'idle_time', 'mouse_wheel', \n",
    "               'mouse_wheel_click', 'mouse_click_left',\n",
    "               'mouse_click_right', 'mouse_movement', \n",
    "               'keystroke', 'active_time']"
   ]
  },
  {
   "cell_type": "code",
   "execution_count": 79,
   "id": "d350cc4a",
   "metadata": {},
   "outputs": [],
   "source": [
    "def low_outlier_chk(varstr):\n",
    "    global outchk\n",
    "    new_var = varstr + '_low'\n",
    "    outchk[new_var] = np.where(outchk[varstr] < lower_extreme_bound(outchk[varstr]), 1, 0)\n",
    "    return outchk[new_var].mean()  "
   ]
  },
  {
   "cell_type": "code",
   "execution_count": 80,
   "id": "5fcd2432",
   "metadata": {},
   "outputs": [],
   "source": [
    "def high_outlier_chk(varstr):\n",
    "    global outchk\n",
    "    new_var = varstr + '_high'\n",
    "    outchk[new_var] = np.where(outchk[varstr] > upper_extreme_bound(outchk[varstr]), 1, 0) \n",
    "    return outchk[new_var].mean()"
   ]
  },
  {
   "cell_type": "code",
   "execution_count": 81,
   "id": "9febfcc5",
   "metadata": {},
   "outputs": [],
   "source": [
    "outliers = pd.DataFrame({'variable': [v for v in vars_to_chk],\n",
    "                        'low outliers': [low_outlier_chk(v) for v in vars_to_chk],\n",
    "                        'high outliers': [high_outlier_chk(v) for v in vars_to_chk]})"
   ]
  },
  {
   "cell_type": "code",
   "execution_count": 82,
   "id": "d5801357",
   "metadata": {},
   "outputs": [
    {
     "data": {
      "text/html": [
       "<div>\n",
       "<style scoped>\n",
       "    .dataframe tbody tr th:only-of-type {\n",
       "        vertical-align: middle;\n",
       "    }\n",
       "\n",
       "    .dataframe tbody tr th {\n",
       "        vertical-align: top;\n",
       "    }\n",
       "\n",
       "    .dataframe thead th {\n",
       "        text-align: right;\n",
       "    }\n",
       "</style>\n",
       "<table border=\"1\" class=\"dataframe\">\n",
       "  <thead>\n",
       "    <tr style=\"text-align: right;\">\n",
       "      <th></th>\n",
       "      <th>variable</th>\n",
       "      <th>low outliers</th>\n",
       "      <th>high outliers</th>\n",
       "    </tr>\n",
       "  </thead>\n",
       "  <tbody>\n",
       "    <tr>\n",
       "      <th>0</th>\n",
       "      <td>total_time</td>\n",
       "      <td>0.0</td>\n",
       "      <td>0.000000</td>\n",
       "    </tr>\n",
       "    <tr>\n",
       "      <th>1</th>\n",
       "      <td>idle_time</td>\n",
       "      <td>0.0</td>\n",
       "      <td>0.000000</td>\n",
       "    </tr>\n",
       "    <tr>\n",
       "      <th>2</th>\n",
       "      <td>mouse_wheel</td>\n",
       "      <td>0.0</td>\n",
       "      <td>0.024286</td>\n",
       "    </tr>\n",
       "    <tr>\n",
       "      <th>3</th>\n",
       "      <td>mouse_wheel_click</td>\n",
       "      <td>0.0</td>\n",
       "      <td>0.001625</td>\n",
       "    </tr>\n",
       "    <tr>\n",
       "      <th>4</th>\n",
       "      <td>mouse_click_left</td>\n",
       "      <td>0.0</td>\n",
       "      <td>0.024440</td>\n",
       "    </tr>\n",
       "    <tr>\n",
       "      <th>5</th>\n",
       "      <td>mouse_click_right</td>\n",
       "      <td>0.0</td>\n",
       "      <td>0.018897</td>\n",
       "    </tr>\n",
       "    <tr>\n",
       "      <th>6</th>\n",
       "      <td>mouse_movement</td>\n",
       "      <td>0.0</td>\n",
       "      <td>0.025003</td>\n",
       "    </tr>\n",
       "    <tr>\n",
       "      <th>7</th>\n",
       "      <td>keystroke</td>\n",
       "      <td>0.0</td>\n",
       "      <td>0.024374</td>\n",
       "    </tr>\n",
       "    <tr>\n",
       "      <th>8</th>\n",
       "      <td>active_time</td>\n",
       "      <td>0.0</td>\n",
       "      <td>0.000000</td>\n",
       "    </tr>\n",
       "  </tbody>\n",
       "</table>\n",
       "</div>"
      ],
      "text/plain": [
       "            variable  low outliers  high outliers\n",
       "0         total_time           0.0       0.000000\n",
       "1          idle_time           0.0       0.000000\n",
       "2        mouse_wheel           0.0       0.024286\n",
       "3  mouse_wheel_click           0.0       0.001625\n",
       "4   mouse_click_left           0.0       0.024440\n",
       "5  mouse_click_right           0.0       0.018897\n",
       "6     mouse_movement           0.0       0.025003\n",
       "7          keystroke           0.0       0.024374\n",
       "8        active_time           0.0       0.000000"
      ]
     },
     "execution_count": 82,
     "metadata": {},
     "output_type": "execute_result"
    }
   ],
   "source": [
    "outliers"
   ]
  },
  {
   "cell_type": "code",
   "execution_count": null,
   "id": "6ea54f23",
   "metadata": {},
   "outputs": [],
   "source": []
  },
  {
   "cell_type": "code",
   "execution_count": 83,
   "id": "a97b0225",
   "metadata": {},
   "outputs": [
    {
     "data": {
      "text/plain": [
       "Index(['session', 'student_id', 'exercise', 'activity', 'activity_grp',\n",
       "       'activity_ex', 'start_time', 'end_time', 'total_time', 'idle_time',\n",
       "       'mouse_wheel', 'mouse_wheel_click', 'mouse_click_left',\n",
       "       'mouse_click_right', 'mouse_movement', 'keystroke', 'active_time'],\n",
       "      dtype='object')"
      ]
     },
     "execution_count": 83,
     "metadata": {},
     "output_type": "execute_result"
    }
   ],
   "source": [
    "inputs_xdf.columns"
   ]
  },
  {
   "cell_type": "markdown",
   "id": "daf7d1fc",
   "metadata": {},
   "source": [
    "##### Natural Log"
   ]
  },
  {
   "cell_type": "code",
   "execution_count": 84,
   "id": "be9972b6",
   "metadata": {},
   "outputs": [],
   "source": [
    "inputs_xdf['ttime_ln'] = np.log(inputs_xdf[['total_time']].replace(0, np.nan))"
   ]
  },
  {
   "cell_type": "code",
   "execution_count": 85,
   "id": "64f11a81",
   "metadata": {},
   "outputs": [],
   "source": [
    "inputs_xdf['itime_ln'] = np.log(inputs_xdf[['idle_time']].replace(0, np.nan))"
   ]
  },
  {
   "cell_type": "code",
   "execution_count": 86,
   "id": "b5b34b54",
   "metadata": {},
   "outputs": [],
   "source": [
    "inputs_xdf['mw_ln'] = np.log(inputs_xdf[['mouse_wheel']].replace(0, np.nan))"
   ]
  },
  {
   "cell_type": "code",
   "execution_count": 87,
   "id": "7290db37",
   "metadata": {},
   "outputs": [],
   "source": [
    "inputs_xdf['mwc_ln'] = np.log(inputs_xdf[['mouse_wheel_click']].replace(0, np.nan))"
   ]
  },
  {
   "cell_type": "code",
   "execution_count": 88,
   "id": "8cf7b1d6",
   "metadata": {},
   "outputs": [],
   "source": [
    "inputs_xdf['mcl_ln'] = np.log(inputs_xdf[['mouse_click_left']].replace(0, np.nan))"
   ]
  },
  {
   "cell_type": "code",
   "execution_count": 89,
   "id": "512d58d8",
   "metadata": {},
   "outputs": [],
   "source": [
    "inputs_xdf['mcr_ln'] = np.log(inputs_xdf[['mouse_click_right']].replace(0, np.nan))"
   ]
  },
  {
   "cell_type": "code",
   "execution_count": 90,
   "id": "fb0350e7",
   "metadata": {},
   "outputs": [],
   "source": [
    "inputs_xdf['mm_ln'] = np.log(inputs_xdf[['mouse_movement']].replace(0, np.nan))"
   ]
  },
  {
   "cell_type": "code",
   "execution_count": 91,
   "id": "8889e682",
   "metadata": {},
   "outputs": [],
   "source": [
    "inputs_xdf['ks_ln'] = np.log(inputs_xdf[['keystroke']].replace(0, np.nan))"
   ]
  },
  {
   "cell_type": "markdown",
   "id": "18eb0aab",
   "metadata": {},
   "source": [
    "##### Windsorize"
   ]
  },
  {
   "cell_type": "code",
   "execution_count": 92,
   "id": "93bebf5b",
   "metadata": {},
   "outputs": [],
   "source": [
    "inputs_xdf['mw_wdz'] = [x if x <= upper_extreme_bound(inputs_xdf['mouse_wheel']) else upper_extreme_bound(inputs_xdf['mouse_wheel']) for x in inputs_xdf['mouse_wheel']]"
   ]
  },
  {
   "cell_type": "code",
   "execution_count": 93,
   "id": "21265af0",
   "metadata": {},
   "outputs": [],
   "source": [
    "inputs_xdf['mw_wdz'] = [x if x >= lower_extreme_bound(inputs_xdf['mouse_wheel']) else lower_extreme_bound(inputs_xdf['mouse_wheel']) for x in inputs_xdf['mouse_wheel']]"
   ]
  },
  {
   "cell_type": "code",
   "execution_count": 94,
   "id": "1c7b0e9d",
   "metadata": {},
   "outputs": [],
   "source": [
    "inputs_xdf['mwc_wdz'] = [x if x <= upper_extreme_bound(inputs_xdf['mouse_wheel_click']) else upper_extreme_bound(inputs_xdf['mouse_wheel_click']) for x in inputs_xdf['mouse_wheel_click']]"
   ]
  },
  {
   "cell_type": "code",
   "execution_count": 95,
   "id": "89cc4795",
   "metadata": {},
   "outputs": [],
   "source": [
    "inputs_xdf['mwc_wdz'] = [x if x >= lower_extreme_bound(inputs_xdf['mouse_wheel_click']) else lower_extreme_bound(inputs_xdf['mouse_wheel_click']) for x in inputs_xdf['mouse_wheel_click']]"
   ]
  },
  {
   "cell_type": "code",
   "execution_count": 96,
   "id": "c160e624",
   "metadata": {},
   "outputs": [],
   "source": [
    "inputs_xdf['mcl_wdz'] = [x if x <= upper_extreme_bound(inputs_xdf['mouse_click_left']) else upper_extreme_bound(inputs_xdf['mouse_click_left']) for x in inputs_xdf['mouse_click_left']]"
   ]
  },
  {
   "cell_type": "code",
   "execution_count": 97,
   "id": "d6e3412d",
   "metadata": {},
   "outputs": [],
   "source": [
    "inputs_xdf['mcl_wdz'] = [x if x >= lower_extreme_bound(inputs_xdf['mouse_click_left']) else lower_extreme_bound(inputs_xdf['mouse_click_left']) for x in inputs_xdf['mouse_click_left']]"
   ]
  },
  {
   "cell_type": "code",
   "execution_count": 98,
   "id": "7433a7db",
   "metadata": {},
   "outputs": [],
   "source": [
    "inputs_xdf['mcr_wdz'] = [x if x <= upper_extreme_bound(inputs_xdf['mouse_click_right']) else upper_extreme_bound(inputs_xdf['mouse_click_right']) for x in inputs_xdf['mouse_click_right']]"
   ]
  },
  {
   "cell_type": "code",
   "execution_count": 99,
   "id": "313d3851",
   "metadata": {},
   "outputs": [],
   "source": [
    "inputs_xdf['mcr_wdz'] = [x if x >= lower_extreme_bound(inputs_xdf['mouse_click_right']) else lower_extreme_bound(inputs_xdf['mouse_click_right']) for x in inputs_xdf['mouse_click_right']]"
   ]
  },
  {
   "cell_type": "code",
   "execution_count": 100,
   "id": "2691af3d",
   "metadata": {},
   "outputs": [],
   "source": [
    "inputs_xdf['mm_wdz'] = [x if x <= upper_extreme_bound(inputs_xdf['mouse_movement']) else upper_extreme_bound(inputs_xdf['mouse_movement']) for x in inputs_xdf['mouse_movement']]"
   ]
  },
  {
   "cell_type": "code",
   "execution_count": 101,
   "id": "9a31469e",
   "metadata": {},
   "outputs": [],
   "source": [
    "inputs_xdf['mm_wdz'] = [x if x >= lower_extreme_bound(inputs_xdf['mouse_movement']) else lower_extreme_bound(inputs_xdf['mouse_movement']) for x in inputs_xdf['mouse_movement']]"
   ]
  },
  {
   "cell_type": "code",
   "execution_count": 102,
   "id": "c0aa0f81",
   "metadata": {},
   "outputs": [],
   "source": [
    "inputs_xdf['ks_wdz'] = [x if x <= upper_extreme_bound(inputs_xdf['keystroke']) else upper_extreme_bound(inputs_xdf['keystroke']) for x in inputs_xdf['keystroke']]"
   ]
  },
  {
   "cell_type": "code",
   "execution_count": 103,
   "id": "69f992ad",
   "metadata": {},
   "outputs": [],
   "source": [
    "inputs_xdf['ks_wdz'] = [x if x >= lower_extreme_bound(inputs_xdf['keystroke']) else lower_extreme_bound(inputs_xdf['keystroke']) for x in inputs_xdf['keystroke']]"
   ]
  },
  {
   "cell_type": "code",
   "execution_count": null,
   "id": "d4b3b1e2",
   "metadata": {},
   "outputs": [],
   "source": []
  },
  {
   "cell_type": "markdown",
   "id": "112dbb6d",
   "metadata": {},
   "source": [
    "##### Square Root"
   ]
  },
  {
   "cell_type": "code",
   "execution_count": 104,
   "id": "9dfae12a",
   "metadata": {},
   "outputs": [],
   "source": [
    "inputs_xdf['ttime_sqrt'] = np.sqrt(inputs_xdf[['total_time']])"
   ]
  },
  {
   "cell_type": "code",
   "execution_count": 105,
   "id": "04d08901",
   "metadata": {},
   "outputs": [],
   "source": [
    "inputs_xdf['itime_sqrt'] = np.sqrt(inputs_xdf[['idle_time']])"
   ]
  },
  {
   "cell_type": "code",
   "execution_count": 106,
   "id": "69a4e461",
   "metadata": {},
   "outputs": [],
   "source": [
    "inputs_xdf['mw_sqrt'] = np.sqrt(inputs_xdf[['mouse_wheel']])"
   ]
  },
  {
   "cell_type": "code",
   "execution_count": 107,
   "id": "83275973",
   "metadata": {},
   "outputs": [],
   "source": [
    "inputs_xdf['mwc_sqrt'] = np.sqrt(inputs_xdf[['mouse_wheel_click']])"
   ]
  },
  {
   "cell_type": "code",
   "execution_count": 108,
   "id": "41aae684",
   "metadata": {},
   "outputs": [],
   "source": [
    "inputs_xdf['mcl_sqrt'] = np.sqrt(inputs_xdf[['mouse_click_left']])"
   ]
  },
  {
   "cell_type": "code",
   "execution_count": 109,
   "id": "0104b3ce",
   "metadata": {},
   "outputs": [],
   "source": [
    "inputs_xdf['mcr_sqrt'] = np.sqrt(inputs_xdf[['mouse_click_right']])"
   ]
  },
  {
   "cell_type": "code",
   "execution_count": 110,
   "id": "a781f985",
   "metadata": {},
   "outputs": [],
   "source": [
    "inputs_xdf['mm_sqrt'] = np.sqrt(inputs_xdf[['mouse_movement']])"
   ]
  },
  {
   "cell_type": "code",
   "execution_count": 111,
   "id": "fb080db5",
   "metadata": {},
   "outputs": [],
   "source": [
    "inputs_xdf['ks_sqrt'] = np.sqrt(inputs_xdf[['keystroke']])"
   ]
  },
  {
   "cell_type": "code",
   "execution_count": null,
   "id": "6e49204b",
   "metadata": {},
   "outputs": [],
   "source": []
  },
  {
   "cell_type": "markdown",
   "id": "545e7235",
   "metadata": {},
   "source": [
    "##### `total_time`"
   ]
  },
  {
   "cell_type": "code",
   "execution_count": 112,
   "id": "86049328",
   "metadata": {},
   "outputs": [
    {
     "data": {
      "image/png": "[encoded data removed]",
      "text/plain": [
       "<Figure size 400x400 with 1 Axes>"
      ]
     },
     "metadata": {},
     "output_type": "display_data"
    }
   ],
   "source": [
    "sns.displot(\n",
    "    inputs_xdf, x=\"total_time\", stat='percent', kind='hist', bins=30, height=4)\n",
    "\n",
    "plt.show()"
   ]
  },
  {
   "cell_type": "code",
   "execution_count": 113,
   "id": "0958506b",
   "metadata": {},
   "outputs": [
    {
     "data": {
      "image/png": "[encoded data removed]",
      "text/plain": [
       "<Figure size 400x400 with 1 Axes>"
      ]
     },
     "metadata": {},
     "output_type": "display_data"
    }
   ],
   "source": [
    "sns.displot(\n",
    "    inputs_xdf, x=\"ttime_ln\", stat='percent', kind='hist', bins=30, height=4)\n",
    "\n",
    "plt.show()"
   ]
  },
  {
   "cell_type": "code",
   "execution_count": 114,
   "id": "48fa2822",
   "metadata": {},
   "outputs": [
    {
     "data": {
      "image/png": "[encoded data removed]",
      "text/plain": [
       "<Figure size 400x400 with 1 Axes>"
      ]
     },
     "metadata": {},
     "output_type": "display_data"
    }
   ],
   "source": [
    "sns.displot(\n",
    "    inputs_xdf, x=\"ttime_sqrt\", stat='percent', kind='hist', bins=30, height=4)\n",
    "\n",
    "plt.show()"
   ]
  },
  {
   "cell_type": "markdown",
   "id": "2897808c",
   "metadata": {},
   "source": [
    "##### `idle_time`"
   ]
  },
  {
   "cell_type": "code",
   "execution_count": 115,
   "id": "8e98aa65",
   "metadata": {},
   "outputs": [
    {
     "data": {
      "image/png": "[encoded data removed]",
      "text/plain": [
       "<Figure size 400x400 with 1 Axes>"
      ]
     },
     "metadata": {},
     "output_type": "display_data"
    }
   ],
   "source": [
    "sns.displot(\n",
    "    inputs_xdf, x=\"idle_time\", stat='percent', kind='hist', bins=30, height=4)\n",
    "\n",
    "plt.show()"
   ]
  },
  {
   "cell_type": "code",
   "execution_count": 116,
   "id": "407c4c7d",
   "metadata": {},
   "outputs": [
    {
     "data": {
      "image/png": "[encoded data removed]",
      "text/plain": [
       "<Figure size 400x400 with 1 Axes>"
      ]
     },
     "metadata": {},
     "output_type": "display_data"
    }
   ],
   "source": [
    "sns.displot(\n",
    "    inputs_xdf, x=\"itime_ln\", stat='percent', kind='hist', bins=30, height=4)\n",
    "\n",
    "plt.show()"
   ]
  },
  {
   "cell_type": "markdown",
   "id": "fb4afbfe",
   "metadata": {},
   "source": [
    "##### `mouse_wheel`"
   ]
  },
  {
   "cell_type": "code",
   "execution_count": 117,
   "id": "f307f138",
   "metadata": {},
   "outputs": [
    {
     "data": {
      "image/png": "[encoded data removed]",
      "text/plain": [
       "<Figure size 400x400 with 1 Axes>"
      ]
     },
     "metadata": {},
     "output_type": "display_data"
    }
   ],
   "source": [
    "sns.displot(\n",
    "    inputs_xdf, x=\"mouse_wheel\", stat='percent', kind='hist', bins=30, height=4)\n",
    "\n",
    "plt.show()"
   ]
  },
  {
   "cell_type": "code",
   "execution_count": 118,
   "id": "687a6dad",
   "metadata": {},
   "outputs": [
    {
     "data": {
      "image/png": "[encoded data removed]",
      "text/plain": [
       "<Figure size 400x400 with 1 Axes>"
      ]
     },
     "metadata": {},
     "output_type": "display_data"
    }
   ],
   "source": [
    "sns.displot(\n",
    "    inputs_xdf, x=\"mw_ln\", stat='percent', kind='hist', bins=30, height=4)\n",
    "\n",
    "plt.show()"
   ]
  },
  {
   "cell_type": "code",
   "execution_count": 119,
   "id": "395a55c0",
   "metadata": {},
   "outputs": [
    {
     "data": {
      "image/png": "[encoded data removed]",
      "text/plain": [
       "<Figure size 400x400 with 1 Axes>"
      ]
     },
     "metadata": {},
     "output_type": "display_data"
    }
   ],
   "source": [
    "sns.displot(\n",
    "    inputs_xdf, x=\"mw_wdz\", stat='percent', kind='hist', bins=30, height=4)\n",
    "\n",
    "plt.show()"
   ]
  },
  {
   "cell_type": "markdown",
   "id": "8b5c31b6",
   "metadata": {},
   "source": [
    "##### `mouse_wheel_click`"
   ]
  },
  {
   "cell_type": "code",
   "execution_count": 120,
   "id": "5cb9b760",
   "metadata": {},
   "outputs": [
    {
     "data": {
      "image/png": "[encoded data removed]",
      "text/plain": [
       "<Figure size 400x400 with 1 Axes>"
      ]
     },
     "metadata": {},
     "output_type": "display_data"
    }
   ],
   "source": [
    "sns.displot(\n",
    "    inputs_xdf, x=\"mouse_wheel_click\", stat='percent', kind='hist', bins=30, height=4)\n",
    "\n",
    "plt.show()"
   ]
  },
  {
   "cell_type": "code",
   "execution_count": 121,
   "id": "1f8cb093",
   "metadata": {},
   "outputs": [
    {
     "data": {
      "image/png": "[encoded data removed]",
      "text/plain": [
       "<Figure size 400x400 with 1 Axes>"
      ]
     },
     "metadata": {},
     "output_type": "display_data"
    }
   ],
   "source": [
    "sns.displot(\n",
    "    inputs_xdf, x=\"mwc_ln\", stat='percent', kind='hist', bins=30, height=4)\n",
    "\n",
    "plt.show()"
   ]
  },
  {
   "cell_type": "code",
   "execution_count": 122,
   "id": "b90247ed",
   "metadata": {},
   "outputs": [
    {
     "data": {
      "image/png": "[encoded data removed]",
      "text/plain": [
       "<Figure size 400x400 with 1 Axes>"
      ]
     },
     "metadata": {},
     "output_type": "display_data"
    }
   ],
   "source": [
    "sns.displot(\n",
    "    inputs_xdf, x=\"mwc_wdz\", stat='percent', kind='hist', bins=30, height=4)\n",
    "\n",
    "plt.show()"
   ]
  },
  {
   "cell_type": "markdown",
   "id": "e9da05a5",
   "metadata": {},
   "source": [
    "##### `mouse_click_left`"
   ]
  },
  {
   "cell_type": "code",
   "execution_count": 123,
   "id": "fbc46393",
   "metadata": {},
   "outputs": [
    {
     "data": {
      "image/png": "[encoded data removed]",
      "text/plain": [
       "<Figure size 400x400 with 1 Axes>"
      ]
     },
     "metadata": {},
     "output_type": "display_data"
    }
   ],
   "source": [
    "sns.displot(\n",
    "    inputs_xdf, x=\"mouse_click_left\", stat='percent', kind='hist', bins=30, height=4)\n",
    "\n",
    "plt.show()"
   ]
  },
  {
   "cell_type": "code",
   "execution_count": 124,
   "id": "187d744b",
   "metadata": {},
   "outputs": [
    {
     "data": {
      "image/png": "[encoded data removed]",
      "text/plain": [
       "<Figure size 400x400 with 1 Axes>"
      ]
     },
     "metadata": {},
     "output_type": "display_data"
    }
   ],
   "source": [
    "sns.displot(\n",
    "    inputs_xdf, x=\"mcl_ln\", stat='percent', kind='hist', bins=30, height=4)\n",
    "\n",
    "plt.show()"
   ]
  },
  {
   "cell_type": "code",
   "execution_count": 125,
   "id": "3699082b",
   "metadata": {},
   "outputs": [
    {
     "data": {
      "image/png": "[encoded data removed]",
      "text/plain": [
       "<Figure size 400x400 with 1 Axes>"
      ]
     },
     "metadata": {},
     "output_type": "display_data"
    }
   ],
   "source": [
    "sns.displot(\n",
    "    inputs_xdf, x=\"mcl_wdz\", stat='percent', kind='hist', bins=30, height=4)\n",
    "\n",
    "plt.show()"
   ]
  },
  {
   "cell_type": "markdown",
   "id": "7b54379a",
   "metadata": {},
   "source": [
    "##### `mouse_click_right`"
   ]
  },
  {
   "cell_type": "code",
   "execution_count": 126,
   "id": "dd745428",
   "metadata": {},
   "outputs": [
    {
     "data": {
      "image/png": "[encoded data removed]",
      "text/plain": [
       "<Figure size 400x400 with 1 Axes>"
      ]
     },
     "metadata": {},
     "output_type": "display_data"
    }
   ],
   "source": [
    "sns.displot(\n",
    "    inputs_xdf, x=\"mouse_click_right\", stat='percent', kind='hist', bins=30, height=4)\n",
    "\n",
    "plt.show()"
   ]
  },
  {
   "cell_type": "code",
   "execution_count": 127,
   "id": "0ee88aab",
   "metadata": {},
   "outputs": [
    {
     "data": {
      "image/png": "[encoded data removed]",
      "text/plain": [
       "<Figure size 400x400 with 1 Axes>"
      ]
     },
     "metadata": {},
     "output_type": "display_data"
    }
   ],
   "source": [
    "sns.displot(\n",
    "    inputs_xdf, x=\"mcr_ln\", stat='percent', kind='hist', bins=30, height=4)\n",
    "\n",
    "plt.show()"
   ]
  },
  {
   "cell_type": "code",
   "execution_count": 128,
   "id": "0bc309a1",
   "metadata": {},
   "outputs": [
    {
     "data": {
      "image/png": "[encoded data removed]",
      "text/plain": [
       "<Figure size 400x400 with 1 Axes>"
      ]
     },
     "metadata": {},
     "output_type": "display_data"
    }
   ],
   "source": [
    "sns.displot(\n",
    "    inputs_xdf, x=\"mcr_wdz\", stat='percent', kind='hist', bins=30, height=4)\n",
    "\n",
    "plt.show()"
   ]
  },
  {
   "cell_type": "markdown",
   "id": "44a5fe9f",
   "metadata": {},
   "source": [
    "##### `mouse_movement`"
   ]
  },
  {
   "cell_type": "code",
   "execution_count": 129,
   "id": "02af6b14",
   "metadata": {},
   "outputs": [
    {
     "data": {
      "image/png": "[encoded data removed]",
      "text/plain": [
       "<Figure size 400x400 with 1 Axes>"
      ]
     },
     "metadata": {},
     "output_type": "display_data"
    }
   ],
   "source": [
    "sns.displot(\n",
    "    inputs_xdf, x=\"mouse_movement\", stat='percent', kind='hist', bins=30, height=4)\n",
    "\n",
    "plt.show()"
   ]
  },
  {
   "cell_type": "code",
   "execution_count": 130,
   "id": "b61c2537",
   "metadata": {},
   "outputs": [
    {
     "data": {
      "image/png": "[encoded data removed]",
      "text/plain": [
       "<Figure size 400x400 with 1 Axes>"
      ]
     },
     "metadata": {},
     "output_type": "display_data"
    }
   ],
   "source": [
    "sns.displot(\n",
    "    inputs_xdf, x=\"mm_ln\", stat='percent', kind='hist', bins=30, height=4)\n",
    "\n",
    "plt.show()"
   ]
  },
  {
   "cell_type": "markdown",
   "id": "8c86edab",
   "metadata": {},
   "source": [
    "sns.displot(\n",
    "    inputs_xdf, x=\"mm_wdz\", stat='percent', kind='hist', bins=30, height=4)\n",
    "\n",
    "plt.show()"
   ]
  },
  {
   "cell_type": "markdown",
   "id": "ab938833",
   "metadata": {},
   "source": [
    "##### `keystroke`"
   ]
  },
  {
   "cell_type": "code",
   "execution_count": 131,
   "id": "c433818e",
   "metadata": {},
   "outputs": [
    {
     "data": {
      "image/png": "[encoded data removed]",
      "text/plain": [
       "<Figure size 400x400 with 1 Axes>"
      ]
     },
     "metadata": {},
     "output_type": "display_data"
    }
   ],
   "source": [
    "sns.displot(\n",
    "    inputs_xdf, x=\"keystroke\", stat='percent', kind='hist', bins=30, height=4)\n",
    "\n",
    "plt.show()"
   ]
  },
  {
   "cell_type": "code",
   "execution_count": 132,
   "id": "fdc79cee",
   "metadata": {},
   "outputs": [
    {
     "data": {
      "image/png": "[encoded data removed]",
      "text/plain": [
       "<Figure size 400x400 with 1 Axes>"
      ]
     },
     "metadata": {},
     "output_type": "display_data"
    }
   ],
   "source": [
    "sns.displot(\n",
    "    inputs_xdf, x=\"ks_ln\", stat='percent', kind='hist', bins=30, height=4)\n",
    "\n",
    "plt.show()"
   ]
  },
  {
   "cell_type": "code",
   "execution_count": 133,
   "id": "dce11ea2",
   "metadata": {},
   "outputs": [
    {
     "data": {
      "image/png": "[encoded data removed]",
      "text/plain": [
       "<Figure size 400x400 with 1 Axes>"
      ]
     },
     "metadata": {},
     "output_type": "display_data"
    }
   ],
   "source": [
    "sns.displot(\n",
    "    inputs_xdf, x=\"ks_wdz\", stat='percent', kind='hist', bins=30, height=4)\n",
    "\n",
    "plt.show()"
   ]
  },
  {
   "cell_type": "code",
   "execution_count": null,
   "id": "bb99984b",
   "metadata": {},
   "outputs": [],
   "source": []
  },
  {
   "cell_type": "code",
   "execution_count": 134,
   "id": "f5efd753",
   "metadata": {},
   "outputs": [
    {
     "name": "stdout",
     "output_type": "stream",
     "text": [
      "<class 'pandas.core.frame.DataFrame'>\n",
      "RangeIndex: 227129 entries, 0 to 227128\n",
      "Data columns (total 39 columns):\n",
      " #   Column             Non-Null Count   Dtype         \n",
      "---  ------             --------------   -----         \n",
      " 0   session            227129 non-null  object        \n",
      " 1   student_id         227129 non-null  object        \n",
      " 2   exercise           227129 non-null  object        \n",
      " 3   activity           227129 non-null  object        \n",
      " 4   activity_grp       227129 non-null  object        \n",
      " 5   activity_ex        111979 non-null  object        \n",
      " 6   start_time         227128 non-null  datetime64[ns]\n",
      " 7   end_time           227129 non-null  datetime64[ns]\n",
      " 8   total_time         167361 non-null  float64       \n",
      " 9   idle_time          226971 non-null  float64       \n",
      " 10  mouse_wheel        227129 non-null  int64         \n",
      " 11  mouse_wheel_click  227129 non-null  int64         \n",
      " 12  mouse_click_left   227129 non-null  int64         \n",
      " 13  mouse_click_right  227129 non-null  int64         \n",
      " 14  mouse_movement     227129 non-null  int64         \n",
      " 15  keystroke          227129 non-null  int64         \n",
      " 16  active_time        114002 non-null  float64       \n",
      " 17  ttime_ln           167361 non-null  float64       \n",
      " 18  itime_ln           144564 non-null  float64       \n",
      " 19  mw_ln              20962 non-null   float64       \n",
      " 20  mwc_ln             369 non-null     float64       \n",
      " 21  mcl_ln             203505 non-null  float64       \n",
      " 22  mcr_ln             12789 non-null   float64       \n",
      " 23  mm_ln              212448 non-null  float64       \n",
      " 24  ks_ln              33376 non-null   float64       \n",
      " 25  mw_wdz             227129 non-null  int64         \n",
      " 26  mwc_wdz            227129 non-null  int64         \n",
      " 27  mcl_wdz            227129 non-null  int64         \n",
      " 28  mcr_wdz            227129 non-null  int64         \n",
      " 29  mm_wdz             227129 non-null  int64         \n",
      " 30  ks_wdz             227129 non-null  int64         \n",
      " 31  ttime_sqrt         167361 non-null  float64       \n",
      " 32  itime_sqrt         226971 non-null  float64       \n",
      " 33  mw_sqrt            227129 non-null  float64       \n",
      " 34  mwc_sqrt           227129 non-null  float64       \n",
      " 35  mcl_sqrt           227129 non-null  float64       \n",
      " 36  mcr_sqrt           227129 non-null  float64       \n",
      " 37  mm_sqrt            227129 non-null  float64       \n",
      " 38  ks_sqrt            227129 non-null  float64       \n",
      "dtypes: datetime64[ns](2), float64(19), int64(12), object(6)\n",
      "memory usage: 67.6+ MB\n"
     ]
    }
   ],
   "source": [
    "inputs_xdf.info()"
   ]
  },
  {
   "cell_type": "code",
   "execution_count": 135,
   "id": "88227501",
   "metadata": {},
   "outputs": [
    {
     "data": {
      "text/plain": [
       "Index(['session', 'student_id', 'exercise', 'activity', 'activity_grp',\n",
       "       'activity_ex', 'start_time', 'end_time', 'total_time', 'idle_time',\n",
       "       'mouse_wheel', 'mouse_wheel_click', 'mouse_click_left',\n",
       "       'mouse_click_right', 'mouse_movement', 'keystroke', 'active_time',\n",
       "       'ttime_ln', 'itime_ln', 'mw_ln', 'mwc_ln', 'mcl_ln', 'mcr_ln', 'mm_ln',\n",
       "       'ks_ln', 'mw_wdz', 'mwc_wdz', 'mcl_wdz', 'mcr_wdz', 'mm_wdz', 'ks_wdz',\n",
       "       'ttime_sqrt', 'itime_sqrt', 'mw_sqrt', 'mwc_sqrt', 'mcl_sqrt',\n",
       "       'mcr_sqrt', 'mm_sqrt', 'ks_sqrt'],\n",
       "      dtype='object')"
      ]
     },
     "execution_count": 135,
     "metadata": {},
     "output_type": "execute_result"
    }
   ],
   "source": [
    "inputs_xdf.columns"
   ]
  },
  {
   "cell_type": "code",
   "execution_count": 136,
   "id": "55f4bda7",
   "metadata": {},
   "outputs": [
    {
     "name": "stdout",
     "output_type": "stream",
     "text": [
      "<class 'pandas.core.frame.DataFrame'>\n",
      "RangeIndex: 227129 entries, 0 to 227128\n",
      "Data columns (total 39 columns):\n",
      " #   Column             Non-Null Count   Dtype         \n",
      "---  ------             --------------   -----         \n",
      " 0   session            227129 non-null  object        \n",
      " 1   student_id         227129 non-null  object        \n",
      " 2   exercise           227129 non-null  object        \n",
      " 3   activity           227129 non-null  object        \n",
      " 4   activity_grp       227129 non-null  object        \n",
      " 5   activity_ex        111979 non-null  object        \n",
      " 6   start_time         227128 non-null  datetime64[ns]\n",
      " 7   end_time           227129 non-null  datetime64[ns]\n",
      " 8   total_time         167361 non-null  float64       \n",
      " 9   idle_time          226971 non-null  float64       \n",
      " 10  mouse_wheel        227129 non-null  int64         \n",
      " 11  mouse_wheel_click  227129 non-null  int64         \n",
      " 12  mouse_click_left   227129 non-null  int64         \n",
      " 13  mouse_click_right  227129 non-null  int64         \n",
      " 14  mouse_movement     227129 non-null  int64         \n",
      " 15  keystroke          227129 non-null  int64         \n",
      " 16  active_time        114002 non-null  float64       \n",
      " 17  ttime_ln           167361 non-null  float64       \n",
      " 18  itime_ln           144564 non-null  float64       \n",
      " 19  mw_ln              20962 non-null   float64       \n",
      " 20  mwc_ln             369 non-null     float64       \n",
      " 21  mcl_ln             203505 non-null  float64       \n",
      " 22  mcr_ln             12789 non-null   float64       \n",
      " 23  mm_ln              212448 non-null  float64       \n",
      " 24  ks_ln              33376 non-null   float64       \n",
      " 25  mw_wdz             227129 non-null  int64         \n",
      " 26  mwc_wdz            227129 non-null  int64         \n",
      " 27  mcl_wdz            227129 non-null  int64         \n",
      " 28  mcr_wdz            227129 non-null  int64         \n",
      " 29  mm_wdz             227129 non-null  int64         \n",
      " 30  ks_wdz             227129 non-null  int64         \n",
      " 31  ttime_sqrt         167361 non-null  float64       \n",
      " 32  itime_sqrt         226971 non-null  float64       \n",
      " 33  mw_sqrt            227129 non-null  float64       \n",
      " 34  mwc_sqrt           227129 non-null  float64       \n",
      " 35  mcl_sqrt           227129 non-null  float64       \n",
      " 36  mcr_sqrt           227129 non-null  float64       \n",
      " 37  mm_sqrt            227129 non-null  float64       \n",
      " 38  ks_sqrt            227129 non-null  float64       \n",
      "dtypes: datetime64[ns](2), float64(19), int64(12), object(6)\n",
      "memory usage: 67.6+ MB\n"
     ]
    }
   ],
   "source": [
    "inputs_xdf.info()"
   ]
  },
  {
   "cell_type": "code",
   "execution_count": 137,
   "id": "27b711bd",
   "metadata": {},
   "outputs": [],
   "source": [
    "df_split = np.array_split(inputs_xdf, 3)"
   ]
  },
  {
   "cell_type": "code",
   "execution_count": 138,
   "id": "b25876f1",
   "metadata": {},
   "outputs": [
    {
     "data": {
      "text/plain": [
       "(227129, 39)"
      ]
     },
     "execution_count": 138,
     "metadata": {},
     "output_type": "execute_result"
    }
   ],
   "source": [
    "pd.concat([df_split[0], df_split[1], df_split[2]], ignore_index=True, axis=0).shape"
   ]
  },
  {
   "cell_type": "code",
   "execution_count": 139,
   "id": "5c04dcc1",
   "metadata": {},
   "outputs": [],
   "source": [
    "df_split[0].to_csv('inputs_clean_p1.csv')"
   ]
  },
  {
   "cell_type": "code",
   "execution_count": 140,
   "id": "404c708e",
   "metadata": {},
   "outputs": [],
   "source": [
    "df_split[1].to_csv('inputs_clean_p2.csv')"
   ]
  },
  {
   "cell_type": "code",
   "execution_count": 141,
   "id": "9bc0d64a",
   "metadata": {},
   "outputs": [],
   "source": [
    "df_split[2].to_csv('inputs_clean_p3.csv')"
   ]
  },
  {
   "cell_type": "markdown",
   "id": "55f85cf7",
   "metadata": {},
   "source": [
    "## Outputs"
   ]
  },
  {
   "cell_type": "markdown",
   "id": "d4ebd1e0",
   "metadata": {},
   "source": [
    "#### Total point values are not provided for interim session grades...assume they are all worth the same number of points. Total points for each component of the final are in the pts_final data set."
   ]
  },
  {
   "cell_type": "code",
   "execution_count": 142,
   "id": "9130d382",
   "metadata": {},
   "outputs": [
    {
     "name": "stdout",
     "output_type": "stream",
     "text": [
      "<class 'pandas.core.frame.DataFrame'>\n",
      "RangeIndex: 115 entries, 0 to 114\n",
      "Data columns (total 6 columns):\n",
      " #   Column      Non-Null Count  Dtype  \n",
      "---  ------      --------------  -----  \n",
      " 0   student_id  115 non-null    int64  \n",
      " 1   session_2   115 non-null    float64\n",
      " 2   session_3   115 non-null    float64\n",
      " 3   session_4   115 non-null    float64\n",
      " 4   session_5   115 non-null    float64\n",
      " 5   session_6   115 non-null    float64\n",
      "dtypes: float64(5), int64(1)\n",
      "memory usage: 5.5 KB\n"
     ]
    }
   ],
   "source": [
    "interim_init.info()"
   ]
  },
  {
   "cell_type": "code",
   "execution_count": 143,
   "id": "4dbc32db",
   "metadata": {},
   "outputs": [],
   "source": [
    "interim_init.rename(columns={\"session_2\": \"interim_s2_score\", \"session_3\": \"interim_s3_score\",  \n",
    "                              \"session_4\": \"interim_s4_score\", \"session_5\": \"interim_s5_score\", \n",
    "                              \"session_6\": \"interim_s6_score\"}, inplace=True)"
   ]
  },
  {
   "cell_type": "code",
   "execution_count": 144,
   "id": "75950f57",
   "metadata": {},
   "outputs": [
    {
     "name": "stdout",
     "output_type": "stream",
     "text": [
      "<class 'pandas.core.frame.DataFrame'>\n",
      "RangeIndex: 115 entries, 0 to 114\n",
      "Data columns (total 6 columns):\n",
      " #   Column            Non-Null Count  Dtype  \n",
      "---  ------            --------------  -----  \n",
      " 0   student_id        115 non-null    int64  \n",
      " 1   interim_s2_score  115 non-null    float64\n",
      " 2   interim_s3_score  115 non-null    float64\n",
      " 3   interim_s4_score  115 non-null    float64\n",
      " 4   interim_s5_score  115 non-null    float64\n",
      " 5   interim_s6_score  115 non-null    float64\n",
      "dtypes: float64(5), int64(1)\n",
      "memory usage: 5.5 KB\n"
     ]
    }
   ],
   "source": [
    "interim_init.info()"
   ]
  },
  {
   "cell_type": "code",
   "execution_count": 145,
   "id": "4a301292",
   "metadata": {},
   "outputs": [
    {
     "name": "stdout",
     "output_type": "stream",
     "text": [
      "<class 'pandas.core.frame.DataFrame'>\n",
      "RangeIndex: 62 entries, 0 to 61\n",
      "Data columns (total 18 columns):\n",
      " #   Column       Non-Null Count  Dtype  \n",
      "---  ------       --------------  -----  \n",
      " 0   student_id   62 non-null     int64  \n",
      " 1   Es_1_1       62 non-null     float64\n",
      " 2   Es_1_2       62 non-null     float64\n",
      " 3   Es_2_1       62 non-null     float64\n",
      " 4   Es_2_2       62 non-null     float64\n",
      " 5   Es_3_1       62 non-null     float64\n",
      " 6   Es_3_2       62 non-null     float64\n",
      " 7   Es_3_3       62 non-null     float64\n",
      " 8   Es_3_4       62 non-null     float64\n",
      " 9   Es_3_5       62 non-null     float64\n",
      " 10  Es_4_1       62 non-null     float64\n",
      " 11  Es_4_2       62 non-null     float64\n",
      " 12  Es_5_1       62 non-null     float64\n",
      " 13  Es_5_2       62 non-null     float64\n",
      " 14  Es_5_3       62 non-null     float64\n",
      " 15  Es_6_1       62 non-null     float64\n",
      " 16  Es_6_2       62 non-null     float64\n",
      " 17  final_score  62 non-null     float64\n",
      "dtypes: float64(17), int64(1)\n",
      "memory usage: 8.8 KB\n"
     ]
    }
   ],
   "source": [
    "final_init.info()"
   ]
  },
  {
   "cell_type": "code",
   "execution_count": 146,
   "id": "70847a1b",
   "metadata": {},
   "outputs": [
    {
     "name": "stdout",
     "output_type": "stream",
     "text": [
      "<class 'pandas.core.frame.DataFrame'>\n",
      "RangeIndex: 17 entries, 0 to 16\n",
      "Data columns (total 2 columns):\n",
      " #   Column        Non-Null Count  Dtype \n",
      "---  ------        --------------  ----- \n",
      " 0   question      17 non-null     object\n",
      " 1   question_pts  17 non-null     int64 \n",
      "dtypes: int64(1), object(1)\n",
      "memory usage: 400.0+ bytes\n"
     ]
    }
   ],
   "source": [
    "pts_final_init.info()"
   ]
  },
  {
   "cell_type": "code",
   "execution_count": 147,
   "id": "cf15235d",
   "metadata": {},
   "outputs": [
    {
     "data": {
      "text/plain": [
       "array(['Es_1_1', 'Es_1_2', 'Es_2_1', 'Es_2_2', 'Es_3_1', 'Es_3_2',\n",
       "       'Es_3_3', 'Es_3_4', 'Es_3_5', 'Es_4_1', 'Es_4_2', 'Es_5_1',\n",
       "       'Es_5_2', 'Es_5_3', 'Es_6_1', 'Es_6_2', 'final_score'],\n",
       "      dtype=object)"
      ]
     },
     "execution_count": 147,
     "metadata": {},
     "output_type": "execute_result"
    }
   ],
   "source": [
    "pts_final_init.question.unique()"
   ]
  },
  {
   "cell_type": "code",
   "execution_count": null,
   "id": "632dc6d9",
   "metadata": {},
   "outputs": [],
   "source": []
  },
  {
   "cell_type": "code",
   "execution_count": null,
   "id": "8abbb087",
   "metadata": {},
   "outputs": [],
   "source": []
  },
  {
   "cell_type": "code",
   "execution_count": null,
   "id": "fa9bdee9",
   "metadata": {},
   "outputs": [],
   "source": []
  },
  {
   "cell_type": "code",
   "execution_count": null,
   "id": "6de54257",
   "metadata": {},
   "outputs": [],
   "source": []
  }
 ],
 "metadata": {
  "kernelspec": {
   "display_name": "Python 3 (ipykernel)",
   "language": "python",
   "name": "python3"
  },
  "language_info": {
   "codemirror_mode": {
    "name": "ipython",
    "version": 3
   },
   "file_extension": ".py",
   "mimetype": "text/x-python",
   "name": "python",
   "nbconvert_exporter": "python",
   "pygments_lexer": "ipython3",
   "version": "3.8.15"
  }
 },
 "nbformat": 4,
 "nbformat_minor": 5
}
